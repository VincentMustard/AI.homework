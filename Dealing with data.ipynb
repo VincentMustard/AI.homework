{
 "cells": [
  {
   "cell_type": "markdown",
   "metadata": {},
   "source": [
    "# Dealing with data\n"
   ]
  },
  {
   "cell_type": "markdown",
   "metadata": {
    "collapsed": true
   },
   "source": [
    "## 1. The command line (Optional*)\n",
    "\n",
    "PLEASE NOTE: TO RUN UNIX COMMANDS YOU SHOULD SELECT CORRECT OPTIONS WHEN INSTALLING GIT.\n",
    "\n",
    "The command line is a text oriented way to perform operations with your operating system (looking at files, copying or creating folders, starting programs, etc). \n",
    "\n",
    "It can give you more control and provide a way to \"look under the hood\". In many cases, such as dealing with raw data files, the command line is faster. \n",
    "\n",
    "You should be familiar with the terminal or command line as well as some basic unix (\"Bash\") commands.\n",
    "\n",
    "![Terminal](images/terminal.png)\n",
    "\n",
    "Note: MS Windows provides a different set of command line commands from Unix. Apple computers include the full set of Unix commands as the operating system is more closely based on Unix. Linux is an implementation of Unix. When you installed the Anaconda distribution you had the option to install the Unix commands onto your system as well. "
   ]
  },
  {
   "cell_type": "markdown",
   "metadata": {},
   "source": [
    "### 1.1. File system \n",
    "To navigate the folder structure of the machine you are on you will typically use commands such as `ls` (list) and `cd` (change directory). You can make a directory with `mkdir` or move (`mv`) and copy (`cp`) files. To delete a file you can `rm` (remove) it. To print the contents of a file you can `cat` (concatenate) it to the screen.\n",
    "\n",
    "Many commands have options you can set when running them. For example to get a listing of files as a vertical list you can pass the `-l` (list) flag, e.g. '`ls -l`'. During the normal course of using the command line, you will learn the most useful flags. The `-r` option is for recursive version of commands so that you can for example delete subfolders when you delete a directory with `rm -r` (be very careful with this command!).\n",
    "\n",
    "If you want to see all possible options you can always read the `man` (manual) page for a command, e.g. '`man ls`'. When you are done reading the `man` page, you can exit by hitting `q` to quit."
   ]
  },
  {
   "cell_type": "markdown",
   "metadata": {},
   "source": [
    "You can use shell commands in IPython notebooks by prefixing the line with an exclamation point!"
   ]
  },
  {
   "cell_type": "code",
   "execution_count": 6,
   "metadata": {
    "scrolled": true
   },
   "outputs": [
    {
     "name": "stdout",
     "output_type": "stream",
     "text": [
      "Dealing with data solutions.ipynb\n",
      "Dealing with data.ipynb\n",
      "data\n",
      "images\n"
     ]
    }
   ],
   "source": [
    "!ls"
   ]
  },
  {
   "cell_type": "code",
   "execution_count": 7,
   "metadata": {},
   "outputs": [],
   "source": [
    "!mkdir test"
   ]
  },
  {
   "cell_type": "code",
   "execution_count": 8,
   "metadata": {},
   "outputs": [
    {
     "name": "stdout",
     "output_type": "stream",
     "text": [
      "total 56\n",
      "-rw-r--r-- 1 adamg 197609 26611 Mar 20 15:03 Dealing with data solutions.ipynb\n",
      "-rw-r--r-- 1 adamg 197609 26611 Mar 12 11:17 Dealing with data.ipynb\n",
      "drwxr-xr-x 1 adamg 197609     0 Mar  9 11:43 data\n",
      "drwxr-xr-x 1 adamg 197609     0 Mar  9 17:10 images\n",
      "drwxr-xr-x 1 adamg 197609     0 Mar 20 15:03 test\n"
     ]
    }
   ],
   "source": [
    "!ls -l"
   ]
  },
  {
   "cell_type": "code",
   "execution_count": 9,
   "metadata": {},
   "outputs": [
    {
     "name": "stdout",
     "output_type": "stream",
     "text": [
      "total 60\n",
      "-rw-r--r-- 1 adamg 197609 26799 Mar  9 17:10 iris.png\n",
      "-rw-r--r-- 1 adamg 197609 28925 Mar  9 11:43 terminal.png\n"
     ]
    }
   ],
   "source": [
    "!ls -l images/"
   ]
  },
  {
   "cell_type": "code",
   "execution_count": null,
   "metadata": {},
   "outputs": [],
   "source": [
    "!cp images/terminal.png test/some_picture.png"
   ]
  },
  {
   "cell_type": "code",
   "execution_count": null,
   "metadata": {},
   "outputs": [],
   "source": [
    "!ls test/"
   ]
  },
  {
   "cell_type": "code",
   "execution_count": null,
   "metadata": {},
   "outputs": [],
   "source": [
    "!rm test/ # you can't delete a folder using `rm`!"
   ]
  },
  {
   "cell_type": "code",
   "execution_count": 5,
   "metadata": {},
   "outputs": [],
   "source": [
    "# WARNING THIS WILL NOT CONFIRM!\n",
    "!rm -rf test/"
   ]
  },
  {
   "cell_type": "code",
   "execution_count": null,
   "metadata": {},
   "outputs": [],
   "source": [
    "!ls -l"
   ]
  },
  {
   "cell_type": "markdown",
   "metadata": {},
   "source": [
    "### 1.2. Data manipulation and exploration\n",
    "Virtually anything you want to do with a data file can be done at the command line. There are dozens of commands that can be used together to almost anything you would think of! \n",
    "\n",
    "Lets take a look at the the file `data/users.csv`."
   ]
  },
  {
   "cell_type": "markdown",
   "metadata": {},
   "source": [
    "Before we do anything, lets take a look at the first few lines of the file to get an idea of what's in it."
   ]
  },
  {
   "cell_type": "code",
   "execution_count": 1,
   "metadata": {},
   "outputs": [
    {
     "name": "stdout",
     "output_type": "stream",
     "text": [
      "user,variable1,variable2\n",
      "parallelconcerned,145.391881,-6.081689\n",
      "driftmvc,145.7887,-5.207083\n",
      "snowdonevasive,144.295861,-5.826789\n",
      "cobolglaucous,146.726242,-6.569828\n",
      "stylishmugs,147.22005,-9.443383\n",
      "hypergalaxyfibula,143.669186,-3.583828\n",
      "pipetsrockers,-45.425978,61.160517\n",
      "bracesworkable,-51.678064,64.190922\n",
      "spiritedjump,-50.689325,67.016969\n"
     ]
    }
   ],
   "source": [
    "!head data/users.csv"
   ]
  },
  {
   "cell_type": "markdown",
   "metadata": {},
   "source": [
    "Maybe we want to see a few more lines of the file,"
   ]
  },
  {
   "cell_type": "code",
   "execution_count": null,
   "metadata": {},
   "outputs": [],
   "source": [
    "!head -15 data/users.csv"
   ]
  },
  {
   "cell_type": "markdown",
   "metadata": {},
   "source": [
    "How about the last few lines of the file?"
   ]
  },
  {
   "cell_type": "code",
   "execution_count": null,
   "metadata": {},
   "outputs": [],
   "source": [
    "!tail data/users.csv"
   ]
  },
  {
   "cell_type": "markdown",
   "metadata": {},
   "source": [
    "We can count how many lines are in the file by using `wc` (a word counting tool) with the `-l` flag to count lines,"
   ]
  },
  {
   "cell_type": "code",
   "execution_count": null,
   "metadata": {},
   "outputs": [],
   "source": [
    "!wc -l data/users.csv"
   ]
  },
  {
   "cell_type": "markdown",
   "metadata": {},
   "source": [
    "It looks like there are three columns in this file, lets take a look at the first one alone. Here, we can `cut` the field (`-f`) we want as long as we give the proper delimeter (`-d` defaults to tab)."
   ]
  },
  {
   "cell_type": "code",
   "execution_count": null,
   "metadata": {
    "scrolled": true
   },
   "outputs": [],
   "source": [
    "!cut -f1 -d',' data/users.csv"
   ]
  },
  {
   "cell_type": "markdown",
   "metadata": {},
   "source": [
    "That's a lot of output. Let's combine the `cut` command with the `head` command by _piping_ the output of one command into another one,"
   ]
  },
  {
   "cell_type": "code",
   "execution_count": null,
   "metadata": {
    "scrolled": true
   },
   "outputs": [],
   "source": [
    "!cut -f1 -d',' data/users.csv | head"
   ]
  },
  {
   "cell_type": "markdown",
   "metadata": {},
   "source": [
    "We can use pipes (`|`) to string together many commands to create very powerful one liners. For example, lets get the number of unique users in the first column. We will get all values from the first column, sort them, find all unique values, and then count the number of lines,"
   ]
  },
  {
   "cell_type": "code",
   "execution_count": null,
   "metadata": {},
   "outputs": [],
   "source": [
    "!cut -f1 -d',' data/users.csv | sort | uniq | wc -l"
   ]
  },
  {
   "cell_type": "markdown",
   "metadata": {},
   "source": [
    "Or, we can get a list of the top-10 most frequently occuring users. If we give `uniq` the `-c` flag, it will return the number of times each value occurs. Since these counts are the first entry in each new line, we can tell `sort` to expect numbers (`-n`) and to give us the results in reverse (`-r`) order. Note, that when you want to use two or more single letter flags, you can just place them one after another."
   ]
  },
  {
   "cell_type": "code",
   "execution_count": null,
   "metadata": {},
   "outputs": [],
   "source": [
    "!cut -f1 -d',' data/users.csv | sort | uniq -c | sort -nr | head"
   ]
  },
  {
   "cell_type": "markdown",
   "metadata": {},
   "source": [
    "After some exploration we decide we want to keep only part of our data and bring it into a new file. Let's find all the records that have a negative value in the second and third columns and put these results in a file called `data/negative_users.csv`. Searching through files can be done using _[regular expressions](http://www.robelle.com/smugbook/regexpr.html#expression)_ with a tool called `grep` (Global Regular Expression Printer). You can direct output into a file using a `>`."
   ]
  },
  {
   "cell_type": "code",
   "execution_count": null,
   "metadata": {},
   "outputs": [],
   "source": [
    "!grep '.*,-.*,-.*' data/users.csv > data/negative_users.csv"
   ]
  },
  {
   "cell_type": "markdown",
   "metadata": {},
   "source": [
    "We can check the data folder to see if our new file is in there,"
   ]
  },
  {
   "cell_type": "code",
   "execution_count": null,
   "metadata": {},
   "outputs": [],
   "source": [
    "!ls -l data"
   ]
  },
  {
   "cell_type": "markdown",
   "metadata": {},
   "source": [
    "## 2. Using Python, IPython, and Pandas\n",
    "The command line is great for a first step in data exploration. However, to do some more in depth operations you will generally want to move to a language and environment better suited for involved data manipulation. Here, we will discuss the use of Python as a data crunching tool.\n",
    "|\n",
    "In this section we will only discuss the use of `pandas` to explore data with data frames. You can also explore data line by line by \"streaming\" it; but that is beyond this class. Streaming in data is very useful for highly unstructured data. If you are interested in this, feel free to ask about it on the class forums!"
   ]
  },
  {
   "cell_type": "markdown",
   "metadata": {},
   "source": [
    "### 2.1. Example one: User exploration"
   ]
  },
  {
   "cell_type": "markdown",
   "metadata": {},
   "source": [
    "For structured data like we have here, we will use `pandas`."
   ]
  },
  {
   "cell_type": "code",
   "execution_count": 2,
   "metadata": {},
   "outputs": [
    {
     "ename": "OSError",
     "evalue": "Initializing from file failed",
     "output_type": "error",
     "traceback": [
      "\u001b[1;31m---------------------------------------------------------------------------\u001b[0m",
      "\u001b[1;31mOSError\u001b[0m                                   Traceback (most recent call last)",
      "\u001b[1;32m<ipython-input-2-ff73732c4ed9>\u001b[0m in \u001b[0;36m<module>\u001b[1;34m()\u001b[0m\n\u001b[0;32m      1\u001b[0m \u001b[1;31m# Read in data/users.csv using Pandas\u001b[0m\u001b[1;33m\u001b[0m\u001b[1;33m\u001b[0m\u001b[0m\n\u001b[0;32m      2\u001b[0m \u001b[1;32mimport\u001b[0m \u001b[0mpandas\u001b[0m \u001b[1;32mas\u001b[0m \u001b[0mpd\u001b[0m\u001b[1;33m\u001b[0m\u001b[0m\n\u001b[1;32m----> 3\u001b[1;33m \u001b[0musers\u001b[0m \u001b[1;33m=\u001b[0m \u001b[0mpd\u001b[0m\u001b[1;33m.\u001b[0m\u001b[0mread_csv\u001b[0m\u001b[1;33m(\u001b[0m\u001b[1;34mr\"C:\\Users\\Vincent\\Desktop\\STUDY\\目前课程\\人工智能B\\AI.homework\\AI-for-Non-Computing-master\\week10-12\\data\"\u001b[0m\u001b[1;33m)\u001b[0m\u001b[1;33m\u001b[0m\u001b[0m\n\u001b[0m",
      "\u001b[1;32m~\\Anaconda3\\lib\\site-packages\\pandas\\io\\parsers.py\u001b[0m in \u001b[0;36mparser_f\u001b[1;34m(filepath_or_buffer, sep, delimiter, header, names, index_col, usecols, squeeze, prefix, mangle_dupe_cols, dtype, engine, converters, true_values, false_values, skipinitialspace, skiprows, nrows, na_values, keep_default_na, na_filter, verbose, skip_blank_lines, parse_dates, infer_datetime_format, keep_date_col, date_parser, dayfirst, iterator, chunksize, compression, thousands, decimal, lineterminator, quotechar, quoting, escapechar, comment, encoding, dialect, tupleize_cols, error_bad_lines, warn_bad_lines, skipfooter, doublequote, delim_whitespace, low_memory, memory_map, float_precision)\u001b[0m\n\u001b[0;32m    676\u001b[0m                     skip_blank_lines=skip_blank_lines)\n\u001b[0;32m    677\u001b[0m \u001b[1;33m\u001b[0m\u001b[0m\n\u001b[1;32m--> 678\u001b[1;33m         \u001b[1;32mreturn\u001b[0m \u001b[0m_read\u001b[0m\u001b[1;33m(\u001b[0m\u001b[0mfilepath_or_buffer\u001b[0m\u001b[1;33m,\u001b[0m \u001b[0mkwds\u001b[0m\u001b[1;33m)\u001b[0m\u001b[1;33m\u001b[0m\u001b[0m\n\u001b[0m\u001b[0;32m    679\u001b[0m \u001b[1;33m\u001b[0m\u001b[0m\n\u001b[0;32m    680\u001b[0m     \u001b[0mparser_f\u001b[0m\u001b[1;33m.\u001b[0m\u001b[0m__name__\u001b[0m \u001b[1;33m=\u001b[0m \u001b[0mname\u001b[0m\u001b[1;33m\u001b[0m\u001b[0m\n",
      "\u001b[1;32m~\\Anaconda3\\lib\\site-packages\\pandas\\io\\parsers.py\u001b[0m in \u001b[0;36m_read\u001b[1;34m(filepath_or_buffer, kwds)\u001b[0m\n\u001b[0;32m    438\u001b[0m \u001b[1;33m\u001b[0m\u001b[0m\n\u001b[0;32m    439\u001b[0m     \u001b[1;31m# Create the parser.\u001b[0m\u001b[1;33m\u001b[0m\u001b[1;33m\u001b[0m\u001b[0m\n\u001b[1;32m--> 440\u001b[1;33m     \u001b[0mparser\u001b[0m \u001b[1;33m=\u001b[0m \u001b[0mTextFileReader\u001b[0m\u001b[1;33m(\u001b[0m\u001b[0mfilepath_or_buffer\u001b[0m\u001b[1;33m,\u001b[0m \u001b[1;33m**\u001b[0m\u001b[0mkwds\u001b[0m\u001b[1;33m)\u001b[0m\u001b[1;33m\u001b[0m\u001b[0m\n\u001b[0m\u001b[0;32m    441\u001b[0m \u001b[1;33m\u001b[0m\u001b[0m\n\u001b[0;32m    442\u001b[0m     \u001b[1;32mif\u001b[0m \u001b[0mchunksize\u001b[0m \u001b[1;32mor\u001b[0m \u001b[0miterator\u001b[0m\u001b[1;33m:\u001b[0m\u001b[1;33m\u001b[0m\u001b[0m\n",
      "\u001b[1;32m~\\Anaconda3\\lib\\site-packages\\pandas\\io\\parsers.py\u001b[0m in \u001b[0;36m__init__\u001b[1;34m(self, f, engine, **kwds)\u001b[0m\n\u001b[0;32m    785\u001b[0m             \u001b[0mself\u001b[0m\u001b[1;33m.\u001b[0m\u001b[0moptions\u001b[0m\u001b[1;33m[\u001b[0m\u001b[1;34m'has_index_names'\u001b[0m\u001b[1;33m]\u001b[0m \u001b[1;33m=\u001b[0m \u001b[0mkwds\u001b[0m\u001b[1;33m[\u001b[0m\u001b[1;34m'has_index_names'\u001b[0m\u001b[1;33m]\u001b[0m\u001b[1;33m\u001b[0m\u001b[0m\n\u001b[0;32m    786\u001b[0m \u001b[1;33m\u001b[0m\u001b[0m\n\u001b[1;32m--> 787\u001b[1;33m         \u001b[0mself\u001b[0m\u001b[1;33m.\u001b[0m\u001b[0m_make_engine\u001b[0m\u001b[1;33m(\u001b[0m\u001b[0mself\u001b[0m\u001b[1;33m.\u001b[0m\u001b[0mengine\u001b[0m\u001b[1;33m)\u001b[0m\u001b[1;33m\u001b[0m\u001b[0m\n\u001b[0m\u001b[0;32m    788\u001b[0m \u001b[1;33m\u001b[0m\u001b[0m\n\u001b[0;32m    789\u001b[0m     \u001b[1;32mdef\u001b[0m \u001b[0mclose\u001b[0m\u001b[1;33m(\u001b[0m\u001b[0mself\u001b[0m\u001b[1;33m)\u001b[0m\u001b[1;33m:\u001b[0m\u001b[1;33m\u001b[0m\u001b[0m\n",
      "\u001b[1;32m~\\Anaconda3\\lib\\site-packages\\pandas\\io\\parsers.py\u001b[0m in \u001b[0;36m_make_engine\u001b[1;34m(self, engine)\u001b[0m\n\u001b[0;32m   1012\u001b[0m     \u001b[1;32mdef\u001b[0m \u001b[0m_make_engine\u001b[0m\u001b[1;33m(\u001b[0m\u001b[0mself\u001b[0m\u001b[1;33m,\u001b[0m \u001b[0mengine\u001b[0m\u001b[1;33m=\u001b[0m\u001b[1;34m'c'\u001b[0m\u001b[1;33m)\u001b[0m\u001b[1;33m:\u001b[0m\u001b[1;33m\u001b[0m\u001b[0m\n\u001b[0;32m   1013\u001b[0m         \u001b[1;32mif\u001b[0m \u001b[0mengine\u001b[0m \u001b[1;33m==\u001b[0m \u001b[1;34m'c'\u001b[0m\u001b[1;33m:\u001b[0m\u001b[1;33m\u001b[0m\u001b[0m\n\u001b[1;32m-> 1014\u001b[1;33m             \u001b[0mself\u001b[0m\u001b[1;33m.\u001b[0m\u001b[0m_engine\u001b[0m \u001b[1;33m=\u001b[0m \u001b[0mCParserWrapper\u001b[0m\u001b[1;33m(\u001b[0m\u001b[0mself\u001b[0m\u001b[1;33m.\u001b[0m\u001b[0mf\u001b[0m\u001b[1;33m,\u001b[0m \u001b[1;33m**\u001b[0m\u001b[0mself\u001b[0m\u001b[1;33m.\u001b[0m\u001b[0moptions\u001b[0m\u001b[1;33m)\u001b[0m\u001b[1;33m\u001b[0m\u001b[0m\n\u001b[0m\u001b[0;32m   1015\u001b[0m         \u001b[1;32melse\u001b[0m\u001b[1;33m:\u001b[0m\u001b[1;33m\u001b[0m\u001b[0m\n\u001b[0;32m   1016\u001b[0m             \u001b[1;32mif\u001b[0m \u001b[0mengine\u001b[0m \u001b[1;33m==\u001b[0m \u001b[1;34m'python'\u001b[0m\u001b[1;33m:\u001b[0m\u001b[1;33m\u001b[0m\u001b[0m\n",
      "\u001b[1;32m~\\Anaconda3\\lib\\site-packages\\pandas\\io\\parsers.py\u001b[0m in \u001b[0;36m__init__\u001b[1;34m(self, src, **kwds)\u001b[0m\n\u001b[0;32m   1706\u001b[0m         \u001b[0mkwds\u001b[0m\u001b[1;33m[\u001b[0m\u001b[1;34m'usecols'\u001b[0m\u001b[1;33m]\u001b[0m \u001b[1;33m=\u001b[0m \u001b[0mself\u001b[0m\u001b[1;33m.\u001b[0m\u001b[0musecols\u001b[0m\u001b[1;33m\u001b[0m\u001b[0m\n\u001b[0;32m   1707\u001b[0m \u001b[1;33m\u001b[0m\u001b[0m\n\u001b[1;32m-> 1708\u001b[1;33m         \u001b[0mself\u001b[0m\u001b[1;33m.\u001b[0m\u001b[0m_reader\u001b[0m \u001b[1;33m=\u001b[0m \u001b[0mparsers\u001b[0m\u001b[1;33m.\u001b[0m\u001b[0mTextReader\u001b[0m\u001b[1;33m(\u001b[0m\u001b[0msrc\u001b[0m\u001b[1;33m,\u001b[0m \u001b[1;33m**\u001b[0m\u001b[0mkwds\u001b[0m\u001b[1;33m)\u001b[0m\u001b[1;33m\u001b[0m\u001b[0m\n\u001b[0m\u001b[0;32m   1709\u001b[0m \u001b[1;33m\u001b[0m\u001b[0m\n\u001b[0;32m   1710\u001b[0m         \u001b[0mpassed_names\u001b[0m \u001b[1;33m=\u001b[0m \u001b[0mself\u001b[0m\u001b[1;33m.\u001b[0m\u001b[0mnames\u001b[0m \u001b[1;32mis\u001b[0m \u001b[1;32mNone\u001b[0m\u001b[1;33m\u001b[0m\u001b[0m\n",
      "\u001b[1;32mpandas\\_libs\\parsers.pyx\u001b[0m in \u001b[0;36mpandas._libs.parsers.TextReader.__cinit__\u001b[1;34m()\u001b[0m\n",
      "\u001b[1;32mpandas\\_libs\\parsers.pyx\u001b[0m in \u001b[0;36mpandas._libs.parsers.TextReader._setup_parser_source\u001b[1;34m()\u001b[0m\n",
      "\u001b[1;31mOSError\u001b[0m: Initializing from file failed"
     ]
    }
   ],
   "source": [
    "# Read in data/users.csv using Pandas\n",
    "import pandas as pd\n",
    "users = pd.read_csv(r\"C:\\Users\\Vincent\\Desktop\\STUDY\\目前课程\\人工智能B\\AI.homework\\AI-for-Non-Computing-master\\week10-12\\data\")"
   ]
  },
  {
   "cell_type": "code",
   "execution_count": 4,
   "metadata": {},
   "outputs": [
    {
     "data": {
      "text/html": [
       "<div>\n",
       "<style scoped>\n",
       "    .dataframe tbody tr th:only-of-type {\n",
       "        vertical-align: middle;\n",
       "    }\n",
       "\n",
       "    .dataframe tbody tr th {\n",
       "        vertical-align: top;\n",
       "    }\n",
       "\n",
       "    .dataframe thead th {\n",
       "        text-align: right;\n",
       "    }\n",
       "</style>\n",
       "<table border=\"1\" class=\"dataframe\">\n",
       "  <thead>\n",
       "    <tr style=\"text-align: right;\">\n",
       "      <th></th>\n",
       "      <th>user</th>\n",
       "      <th>variable1</th>\n",
       "      <th>variable2</th>\n",
       "    </tr>\n",
       "  </thead>\n",
       "  <tbody>\n",
       "    <tr>\n",
       "      <th>0</th>\n",
       "      <td>parallelconcerned</td>\n",
       "      <td>145.391881</td>\n",
       "      <td>-6.081689</td>\n",
       "    </tr>\n",
       "    <tr>\n",
       "      <th>1</th>\n",
       "      <td>driftmvc</td>\n",
       "      <td>145.788700</td>\n",
       "      <td>-5.207083</td>\n",
       "    </tr>\n",
       "    <tr>\n",
       "      <th>2</th>\n",
       "      <td>snowdonevasive</td>\n",
       "      <td>144.295861</td>\n",
       "      <td>-5.826789</td>\n",
       "    </tr>\n",
       "    <tr>\n",
       "      <th>3</th>\n",
       "      <td>cobolglaucous</td>\n",
       "      <td>146.726242</td>\n",
       "      <td>-6.569828</td>\n",
       "    </tr>\n",
       "    <tr>\n",
       "      <th>4</th>\n",
       "      <td>stylishmugs</td>\n",
       "      <td>147.220050</td>\n",
       "      <td>-9.443383</td>\n",
       "    </tr>\n",
       "  </tbody>\n",
       "</table>\n",
       "</div>"
      ],
      "text/plain": [
       "                user   variable1  variable2\n",
       "0  parallelconcerned  145.391881  -6.081689\n",
       "1           driftmvc  145.788700  -5.207083\n",
       "2     snowdonevasive  144.295861  -5.826789\n",
       "3      cobolglaucous  146.726242  -6.569828\n",
       "4        stylishmugs  147.220050  -9.443383"
      ]
     },
     "execution_count": 4,
     "metadata": {},
     "output_type": "execute_result"
    }
   ],
   "source": [
    "# Take a look at the Panda's DataFrameg\n",
    "users.head()"
   ]
  },
  {
   "cell_type": "code",
   "execution_count": null,
   "metadata": {},
   "outputs": [],
   "source": [
    "# Add another column to this DataFrame\n",
    "users['sum'] = users['variable1'] + users['variable2']\n",
    "users.head()"
   ]
  },
  {
   "cell_type": "markdown",
   "metadata": {},
   "source": [
    "Python and Pandas allow us to do complex tasks very easily, such as plotting.\n",
    "\n",
    "Let's visualize the relationship between variable1 vs. variable2 in these data with a scatterplot."
   ]
  },
  {
   "cell_type": "code",
   "execution_count": null,
   "metadata": {},
   "outputs": [],
   "source": [
    "import matplotlib.pyplot as plt\n",
    "%matplotlib inline\n",
    "\n",
    "plt.scatter(users['variable1'], users['variable2'])"
   ]
  },
  {
   "cell_type": "markdown",
   "metadata": {},
   "source": [
    "We can update our DataFrame given the new information we discovered."
   ]
  },
  {
   "cell_type": "code",
   "execution_count": null,
   "metadata": {},
   "outputs": [],
   "source": [
    "users.columns = ['user', 'feature1', 'feature2', 'sum']\n",
    "users.head()"
   ]
  },
  {
   "cell_type": "markdown",
   "metadata": {},
   "source": [
    "### 2.2. Example 2: Survey responses\n",
    "Let's read in an edited version of your survey responses. Since the data is very well structured (it's a nicely formatted .csv file) we will simply use `pandas`. This file is located in the `data/` folder."
   ]
  },
  {
   "cell_type": "code",
   "execution_count": null,
   "metadata": {
    "scrolled": true
   },
   "outputs": [],
   "source": [
    "survey = pd.read_csv('data/survey.csv')"
   ]
  },
  {
   "cell_type": "markdown",
   "metadata": {},
   "source": [
    "Now that we have the data, let's take a look at what we have."
   ]
  },
  {
   "cell_type": "code",
   "execution_count": null,
   "metadata": {},
   "outputs": [],
   "source": [
    "survey.head()"
   ]
  },
  {
   "cell_type": "markdown",
   "metadata": {},
   "source": [
    "We have a lot of data here. How can we start to make sense of it? Using the pandas `describe()` method, we can get a summary of the numeric features."
   ]
  },
  {
   "cell_type": "code",
   "execution_count": null,
   "metadata": {},
   "outputs": [],
   "source": [
    "survey.describe()"
   ]
  },
  {
   "cell_type": "markdown",
   "metadata": {},
   "source": [
    "You might find it easier to flip the data frame,"
   ]
  },
  {
   "cell_type": "code",
   "execution_count": null,
   "metadata": {},
   "outputs": [],
   "source": [
    "survey.describe().transpose()"
   ]
  },
  {
   "cell_type": "markdown",
   "metadata": {},
   "source": [
    "Do we have other features that weren't listed here? Some that aren't numeric? Let's take a look."
   ]
  },
  {
   "cell_type": "code",
   "execution_count": null,
   "metadata": {},
   "outputs": [],
   "source": [
    "survey.columns"
   ]
  },
  {
   "cell_type": "markdown",
   "metadata": {},
   "source": [
    "There are more fields here than we saw in our description. If we go back and look at the head of the data, we will see a few fields are Yes/No. Let's turn these into 0's and 1's."
   ]
  },
  {
   "cell_type": "code",
   "execution_count": null,
   "metadata": {},
   "outputs": [],
   "source": [
    "for field in ['regression', 'database', 'cloud', 'api']:\n",
    "    survey[field] = (survey[field] == \"Yes\").astype('int')"
   ]
  },
  {
   "cell_type": "code",
   "execution_count": null,
   "metadata": {},
   "outputs": [],
   "source": [
    "survey.describe().transpose()"
   ]
  },
  {
   "cell_type": "markdown",
   "metadata": {},
   "source": [
    "We have already seen how to get scatter plots in the previous example. Let's look at a histogram here."
   ]
  },
  {
   "cell_type": "code",
   "execution_count": null,
   "metadata": {},
   "outputs": [],
   "source": [
    "import matplotlib.pyplot as plt\n",
    "%matplotlib inline\n",
    "\n",
    "plt.hist(survey['terminal'], bins=range(1, 11))\n",
    "plt.ylabel('Count')\n",
    "plt.xlabel('Rank')\n",
    "plt.show()"
   ]
  },
  {
   "cell_type": "markdown",
   "metadata": {},
   "source": [
    "Let's look at one more type of plot. A very simple line graph. Maybe we are curious about the trend of experience given the timestamp a student submitted their survey. In our data, we have a `timestamp` field as well as all of the experience reports. Let's put a few on a graph and take a look."
   ]
  },
  {
   "cell_type": "code",
   "execution_count": null,
   "metadata": {},
   "outputs": [],
   "source": [
    "plt.plot(survey['timestamp'], survey['terminal'], label=\"Terminal\")\n",
    "plt.plot(survey['timestamp'], survey['business'], label=\"Business\")\n",
    "plt.plot(survey['timestamp'], survey['machinelearning'], label=\"Machine Learning\")\n",
    "plt.ylabel(\"Experience\")\n",
    "plt.xlabel(\"Time Submitted\")\n",
    "plt.legend()\n",
    "plt.show()"
   ]
  },
  {
   "cell_type": "markdown",
   "metadata": {},
   "source": [
    "## 3. Getting data from the internet"
   ]
  },
  {
   "cell_type": "markdown",
   "metadata": {},
   "source": [
    "This section looks at obtaining data are loading it into Python."
   ]
  },
  {
   "cell_type": "markdown",
   "metadata": {},
   "source": [
    "### 3.1. Excercise: Downloading the Iris dataset"
   ]
  },
  {
   "cell_type": "markdown",
   "metadata": {},
   "source": [
    "One of the most famous datasets in Machine Learning is the Iris dataset. We looked at it in lectures, it is referred to in the text book, it is used in many publications. \n",
    "\n",
    "First lets download it from the UCI Machine Learning repository: http://mlearn.ics.uci.edu/MLRepository.html"
   ]
  },
  {
   "cell_type": "markdown",
   "metadata": {},
   "source": [
    "We make use of urllib. It is a python library that is part of the base package - it is for downloading urls. \n",
    "\n",
    "Read the doc! \n",
    "https://docs.python.org/3/library/urllib.html#module-urllib"
   ]
  },
  {
   "cell_type": "code",
   "execution_count": 16,
   "metadata": {},
   "outputs": [],
   "source": [
    "import urllib.request\n",
    "import pandas as pd\n",
    "import numpy as np\n",
    "\n",
    "url = 'https://archive.ics.uci.edu/ml/machine-learning-databases/iris/iris.data'\n",
    "response = urllib.request.urlopen(url)\n",
    "data = response.read()      # a raw bits 'bytes' object\n",
    "text = data.decode('utf-8') # use the utf-8 string format to create a string 'str' object \n",
    "iris_df=pd.read_csv(url, names=(\"sepal length\",\"sepal width\",\"petal length\",\"petal width\",\"class\")) # Panda object"
   ]
  },
  {
   "cell_type": "markdown",
   "metadata": {},
   "source": [
    "#### Take a look at the file contents"
   ]
  },
  {
   "cell_type": "code",
   "execution_count": 4,
   "metadata": {},
   "outputs": [
    {
     "data": {
      "text/plain": [
       "'5.1,3.5,1.4,0.2,Iris-setosa\\n4.9,3.0,1.4,0.2,Iris-setosa\\n4.7,3.2,1.3,0.2,Iris-setosa\\n4.6,3.1,1.5,0.2,Iris-setosa\\n5.0,3.6,1.4,0.2,Iris-setosa\\n5.4,3.9,1.7,0.4,Iris-setosa\\n4.6,3.4,1.4,0.3,Iris-setosa\\n5.0,3.4,1.5,0.2,Iris-setosa\\n4.4,2.9,1.4,0.2,Iris-setosa\\n4.9,3.1,1.5,0.1,Iris-setosa\\n5.4,3.7,1.5,0.2,Iris-setosa\\n4.8,3.4,1.6,0.2,Iris-setosa\\n4.8,3.0,1.4,0.1,Iris-setosa\\n4.3,3.0,1.1,0.1,Iris-setosa\\n5.8,4.0,1.2,0.2,Iris-setosa\\n5.7,4.4,1.5,0.4,Iris-setosa\\n5.4,3.9,1.3,0.4,Iris-setosa\\n5.1,3.5,1.4,0.3,Iris-setosa\\n5.7,3.8,1.7,0.3,Iris-setosa\\n5.1,3.8,1.5,0.3,Iris-setosa\\n5.4,3.4,1.7,0.2,Iris-setosa\\n5.1,3.7,1.5,0.4,Iris-setosa\\n4.6,3.6,1.0,0.2,Iris-setosa\\n5.1,3.3,1.7,0.5,Iris-setosa\\n4.8,3.4,1.9,0.2,Iris-setosa\\n5.0,3.0,1.6,0.2,Iris-setosa\\n5.0,3.4,1.6,0.4,Iris-setosa\\n5.2,3.5,1.5,0.2,Iris-setosa\\n5.2,3.4,1.4,0.2,Iris-setosa\\n4.7,3.2,1.6,0.2,Iris-setosa\\n4.8,3.1,1.6,0.2,Iris-setosa\\n5.4,3.4,1.5,0.4,Iris-setosa\\n5.2,4.1,1.5,0.1,Iris-setosa\\n5.5,4.2,1.4,0.2,Iris-setosa\\n4.9,3.1,1.5,0.1,Iris-setosa\\n5.0,3.2,1.2,0.2,Iris-setosa\\n5.5,3.5,1.3,0.2,Iris-setosa\\n4.9,3.1,1.5,0.1,Iris-setosa\\n4.4,3.0,1.3,0.2,Iris-setosa\\n5.1,3.4,1.5,0.2,Iris-setosa\\n5.0,3.5,1.3,0.3,Iris-setosa\\n4.5,2.3,1.3,0.3,Iris-setosa\\n4.4,3.2,1.3,0.2,Iris-setosa\\n5.0,3.5,1.6,0.6,Iris-setosa\\n5.1,3.8,1.9,0.4,Iris-setosa\\n4.8,3.0,1.4,0.3,Iris-setosa\\n5.1,3.8,1.6,0.2,Iris-setosa\\n4.6,3.2,1.4,0.2,Iris-setosa\\n5.3,3.7,1.5,0.2,Iris-setosa\\n5.0,3.3,1.4,0.2,Iris-setosa\\n7.0,3.2,4.7,1.4,Iris-versicolor\\n6.4,3.2,4.5,1.5,Iris-versicolor\\n6.9,3.1,4.9,1.5,Iris-versicolor\\n5.5,2.3,4.0,1.3,Iris-versicolor\\n6.5,2.8,4.6,1.5,Iris-versicolor\\n5.7,2.8,4.5,1.3,Iris-versicolor\\n6.3,3.3,4.7,1.6,Iris-versicolor\\n4.9,2.4,3.3,1.0,Iris-versicolor\\n6.6,2.9,4.6,1.3,Iris-versicolor\\n5.2,2.7,3.9,1.4,Iris-versicolor\\n5.0,2.0,3.5,1.0,Iris-versicolor\\n5.9,3.0,4.2,1.5,Iris-versicolor\\n6.0,2.2,4.0,1.0,Iris-versicolor\\n6.1,2.9,4.7,1.4,Iris-versicolor\\n5.6,2.9,3.6,1.3,Iris-versicolor\\n6.7,3.1,4.4,1.4,Iris-versicolor\\n5.6,3.0,4.5,1.5,Iris-versicolor\\n5.8,2.7,4.1,1.0,Iris-versicolor\\n6.2,2.2,4.5,1.5,Iris-versicolor\\n5.6,2.5,3.9,1.1,Iris-versicolor\\n5.9,3.2,4.8,1.8,Iris-versicolor\\n6.1,2.8,4.0,1.3,Iris-versicolor\\n6.3,2.5,4.9,1.5,Iris-versicolor\\n6.1,2.8,4.7,1.2,Iris-versicolor\\n6.4,2.9,4.3,1.3,Iris-versicolor\\n6.6,3.0,4.4,1.4,Iris-versicolor\\n6.8,2.8,4.8,1.4,Iris-versicolor\\n6.7,3.0,5.0,1.7,Iris-versicolor\\n6.0,2.9,4.5,1.5,Iris-versicolor\\n5.7,2.6,3.5,1.0,Iris-versicolor\\n5.5,2.4,3.8,1.1,Iris-versicolor\\n5.5,2.4,3.7,1.0,Iris-versicolor\\n5.8,2.7,3.9,1.2,Iris-versicolor\\n6.0,2.7,5.1,1.6,Iris-versicolor\\n5.4,3.0,4.5,1.5,Iris-versicolor\\n6.0,3.4,4.5,1.6,Iris-versicolor\\n6.7,3.1,4.7,1.5,Iris-versicolor\\n6.3,2.3,4.4,1.3,Iris-versicolor\\n5.6,3.0,4.1,1.3,Iris-versicolor\\n5.5,2.5,4.0,1.3,Iris-versicolor\\n5.5,2.6,4.4,1.2,Iris-versicolor\\n6.1,3.0,4.6,1.4,Iris-versicolor\\n5.8,2.6,4.0,1.2,Iris-versicolor\\n5.0,2.3,3.3,1.0,Iris-versicolor\\n5.6,2.7,4.2,1.3,Iris-versicolor\\n5.7,3.0,4.2,1.2,Iris-versicolor\\n5.7,2.9,4.2,1.3,Iris-versicolor\\n6.2,2.9,4.3,1.3,Iris-versicolor\\n5.1,2.5,3.0,1.1,Iris-versicolor\\n5.7,2.8,4.1,1.3,Iris-versicolor\\n6.3,3.3,6.0,2.5,Iris-virginica\\n5.8,2.7,5.1,1.9,Iris-virginica\\n7.1,3.0,5.9,2.1,Iris-virginica\\n6.3,2.9,5.6,1.8,Iris-virginica\\n6.5,3.0,5.8,2.2,Iris-virginica\\n7.6,3.0,6.6,2.1,Iris-virginica\\n4.9,2.5,4.5,1.7,Iris-virginica\\n7.3,2.9,6.3,1.8,Iris-virginica\\n6.7,2.5,5.8,1.8,Iris-virginica\\n7.2,3.6,6.1,2.5,Iris-virginica\\n6.5,3.2,5.1,2.0,Iris-virginica\\n6.4,2.7,5.3,1.9,Iris-virginica\\n6.8,3.0,5.5,2.1,Iris-virginica\\n5.7,2.5,5.0,2.0,Iris-virginica\\n5.8,2.8,5.1,2.4,Iris-virginica\\n6.4,3.2,5.3,2.3,Iris-virginica\\n6.5,3.0,5.5,1.8,Iris-virginica\\n7.7,3.8,6.7,2.2,Iris-virginica\\n7.7,2.6,6.9,2.3,Iris-virginica\\n6.0,2.2,5.0,1.5,Iris-virginica\\n6.9,3.2,5.7,2.3,Iris-virginica\\n5.6,2.8,4.9,2.0,Iris-virginica\\n7.7,2.8,6.7,2.0,Iris-virginica\\n6.3,2.7,4.9,1.8,Iris-virginica\\n6.7,3.3,5.7,2.1,Iris-virginica\\n7.2,3.2,6.0,1.8,Iris-virginica\\n6.2,2.8,4.8,1.8,Iris-virginica\\n6.1,3.0,4.9,1.8,Iris-virginica\\n6.4,2.8,5.6,2.1,Iris-virginica\\n7.2,3.0,5.8,1.6,Iris-virginica\\n7.4,2.8,6.1,1.9,Iris-virginica\\n7.9,3.8,6.4,2.0,Iris-virginica\\n6.4,2.8,5.6,2.2,Iris-virginica\\n6.3,2.8,5.1,1.5,Iris-virginica\\n6.1,2.6,5.6,1.4,Iris-virginica\\n7.7,3.0,6.1,2.3,Iris-virginica\\n6.3,3.4,5.6,2.4,Iris-virginica\\n6.4,3.1,5.5,1.8,Iris-virginica\\n6.0,3.0,4.8,1.8,Iris-virginica\\n6.9,3.1,5.4,2.1,Iris-virginica\\n6.7,3.1,5.6,2.4,Iris-virginica\\n6.9,3.1,5.1,2.3,Iris-virginica\\n5.8,2.7,5.1,1.9,Iris-virginica\\n6.8,3.2,5.9,2.3,Iris-virginica\\n6.7,3.3,5.7,2.5,Iris-virginica\\n6.7,3.0,5.2,2.3,Iris-virginica\\n6.3,2.5,5.0,1.9,Iris-virginica\\n6.5,3.0,5.2,2.0,Iris-virginica\\n6.2,3.4,5.4,2.3,Iris-virginica\\n5.9,3.0,5.1,1.8,Iris-virginica\\n\\n'"
      ]
     },
     "execution_count": 4,
     "metadata": {},
     "output_type": "execute_result"
    }
   ],
   "source": [
    "text"
   ]
  },
  {
   "cell_type": "markdown",
   "metadata": {},
   "source": [
    "### 3.2. Decision Tree Learning with sklearn"
   ]
  },
  {
   "cell_type": "code",
   "execution_count": 17,
   "metadata": {},
   "outputs": [
    {
     "data": {
      "text/html": [
       "<div>\n",
       "<style scoped>\n",
       "    .dataframe tbody tr th:only-of-type {\n",
       "        vertical-align: middle;\n",
       "    }\n",
       "\n",
       "    .dataframe tbody tr th {\n",
       "        vertical-align: top;\n",
       "    }\n",
       "\n",
       "    .dataframe thead th {\n",
       "        text-align: right;\n",
       "    }\n",
       "</style>\n",
       "<table border=\"1\" class=\"dataframe\">\n",
       "  <thead>\n",
       "    <tr style=\"text-align: right;\">\n",
       "      <th></th>\n",
       "      <th>sepal length</th>\n",
       "      <th>sepal width</th>\n",
       "      <th>petal length</th>\n",
       "      <th>petal width</th>\n",
       "      <th>class</th>\n",
       "    </tr>\n",
       "  </thead>\n",
       "  <tbody>\n",
       "    <tr>\n",
       "      <th>0</th>\n",
       "      <td>5.1</td>\n",
       "      <td>3.5</td>\n",
       "      <td>1.4</td>\n",
       "      <td>0.2</td>\n",
       "      <td>Iris-setosa</td>\n",
       "    </tr>\n",
       "    <tr>\n",
       "      <th>1</th>\n",
       "      <td>4.9</td>\n",
       "      <td>3.0</td>\n",
       "      <td>1.4</td>\n",
       "      <td>0.2</td>\n",
       "      <td>Iris-setosa</td>\n",
       "    </tr>\n",
       "    <tr>\n",
       "      <th>2</th>\n",
       "      <td>4.7</td>\n",
       "      <td>3.2</td>\n",
       "      <td>1.3</td>\n",
       "      <td>0.2</td>\n",
       "      <td>Iris-setosa</td>\n",
       "    </tr>\n",
       "    <tr>\n",
       "      <th>3</th>\n",
       "      <td>4.6</td>\n",
       "      <td>3.1</td>\n",
       "      <td>1.5</td>\n",
       "      <td>0.2</td>\n",
       "      <td>Iris-setosa</td>\n",
       "    </tr>\n",
       "    <tr>\n",
       "      <th>4</th>\n",
       "      <td>5.0</td>\n",
       "      <td>3.6</td>\n",
       "      <td>1.4</td>\n",
       "      <td>0.2</td>\n",
       "      <td>Iris-setosa</td>\n",
       "    </tr>\n",
       "  </tbody>\n",
       "</table>\n",
       "</div>"
      ],
      "text/plain": [
       "   sepal length  sepal width  petal length  petal width        class\n",
       "0           5.1          3.5           1.4          0.2  Iris-setosa\n",
       "1           4.9          3.0           1.4          0.2  Iris-setosa\n",
       "2           4.7          3.2           1.3          0.2  Iris-setosa\n",
       "3           4.6          3.1           1.5          0.2  Iris-setosa\n",
       "4           5.0          3.6           1.4          0.2  Iris-setosa"
      ]
     },
     "execution_count": 17,
     "metadata": {},
     "output_type": "execute_result"
    }
   ],
   "source": [
    "iris_df[:].head()"
   ]
  },
  {
   "cell_type": "markdown",
   "metadata": {},
   "source": [
    "Please refer to the Panda documentation during this practical.\n",
    "\n",
    "read csv method doc: https://pandas.pydata.org/pandas-docs/stable/generated/pandas.read_csv.html#pandas.read_csv\n",
    "\n",
    "Some information on merging and combining data frames is at the following link: https://pandas.pydata.org/pandas-docs/stable/merging.html"
   ]
  },
  {
   "cell_type": "code",
   "execution_count": 20,
   "metadata": {},
   "outputs": [
    {
     "data": {
      "image/png": "[encoded data removed]",
      "text/plain": [
       "<Figure size 432x288 with 1 Axes>"
      ]
     },
     "metadata": {},
     "output_type": "display_data"
    }
   ],
   "source": [
    "import matplotlib.pyplot as plt\n",
    "x = iris_df[\"sepal length\"]\n",
    "y = iris_df[\"sepal width\"]\n",
    "iris_df[\"class\"]\n",
    "colors = {'Iris-setosa':'red', 'Iris-virginica':'blue', 'Iris-versicolor':'green'}\n",
    "\n",
    "plt.scatter(x, y, c = iris_df[\"class\"].apply(lambda x: colors[x]))\n",
    "\n",
    "#labels\n",
    "plt.xlabel('sepal length')\n",
    "plt.ylabel('sepal width')\n",
    "\n",
    "\n",
    "plt.show()"
   ]
  },
  {
   "cell_type": "markdown",
   "metadata": {},
   "source": [
    "Produce a 3-D plot using matplotlib. \n",
    "\n",
    "You should refer to the matplotlib documentation for 3d plotting - see https://matplotlib.org/mpl_toolkits/mplot3d/tutorial.html\n",
    "\n",
    "![Iris](images/iris.png)\n"
   ]
  },
  {
   "cell_type": "code",
   "execution_count": 111,
   "metadata": {},
   "outputs": [
    {
     "name": "stdout",
     "output_type": "stream",
     "text": [
      "5.1\n"
     ]
    },
    {
     "data": {
      "image/png": "[encoded data removed]",
      "text/plain": [
       "<Figure size 432x288 with 1 Axes>"
      ]
     },
     "metadata": {},
     "output_type": "display_data"
    }
   ],
   "source": [
    "import matplotlib.pyplot as plt\n",
    "from mpl_toolkits.mplot3d import Axes3D\n",
    "fig = plt.figure()\n",
    "ax = fig.add_subplot(111, projection='3d')\n",
    "x = iris_df[\"sepal length\"]\n",
    "y = iris_df[\"sepal width\"]\n",
    "z = iris_df[\"petal length\"]\n",
    "print(x[0])\n",
    "xs, ys, zs = x, y, z\n",
    "x_max, x_min = max(xs), min(xs)\n",
    "y_max, y_min = max(ys), min(ys)\n",
    "z_max, z_min = max(zs), min(zs)\n",
    "iris_df[\"class\"]\n",
    "colors = {'Iris-setosa':'red', 'Iris-virginica':'blue', 'Iris-versicolor':'green'}\n",
    "\n",
    "plt.scatter(x, y, z, c = iris_df[\"class\"].apply(lambda x: colors[x]))\n",
    "ax.scatter(xs,ys,zs)\n",
    "#labels\n",
    "plt.show()"
   ]
  },
  {
   "cell_type": "markdown",
   "metadata": {},
   "source": [
    "The plot shows the values of two attributes of Iris and indicates the flower class by color.\n",
    "\n",
    "Now we learn a decision tree to classify the iris dataset.\n",
    "\n",
    "Please read the documentation for Decision Trees in sklearn http://scikit-learn.org/stable/modules/tree.html#tree-classification"
   ]
  },
  {
   "cell_type": "code",
   "execution_count": 33,
   "metadata": {},
   "outputs": [],
   "source": [
    "from sklearn import tree\n",
    "\n",
    "attributes = iris_df[[\"sepal length\",\"sepal width\",\"petal length\",\"petal width\"]]\n",
    "target = iris_df[[\"class\"]]\n",
    "\n",
    "clf = tree.DecisionTreeClassifier(criterion='entropy')\n",
    "clf = clf.fit(attributes,target)"
   ]
  },
  {
   "cell_type": "markdown",
   "metadata": {},
   "source": [
    "We can use the decision tree for prediction.\n",
    "\n",
    "First lets predict the values of a feature vector containing [1,1,1,1]:"
   ]
  },
  {
   "cell_type": "code",
   "execution_count": 34,
   "metadata": {},
   "outputs": [
    {
     "data": {
      "text/plain": [
       "array(['Iris-setosa'], dtype=object)"
      ]
     },
     "execution_count": 34,
     "metadata": {},
     "output_type": "execute_result"
    }
   ],
   "source": [
    "clf.predict([[1,1,1,1]])"
   ]
  },
  {
   "cell_type": "markdown",
   "metadata": {},
   "source": [
    "Okay was predicted to be versicolor."
   ]
  },
  {
   "cell_type": "markdown",
   "metadata": {},
   "source": [
    "Now try predicting the values of the whole dataset that was used for learning the decision tree and compare with original training data:"
   ]
  },
  {
   "cell_type": "code",
   "execution_count": 35,
   "metadata": {},
   "outputs": [
    {
     "data": {
      "text/html": [
       "<div>\n",
       "<style scoped>\n",
       "    .dataframe tbody tr th:only-of-type {\n",
       "        vertical-align: middle;\n",
       "    }\n",
       "\n",
       "    .dataframe tbody tr th {\n",
       "        vertical-align: top;\n",
       "    }\n",
       "\n",
       "    .dataframe thead th {\n",
       "        text-align: right;\n",
       "    }\n",
       "</style>\n",
       "<table border=\"1\" class=\"dataframe\">\n",
       "  <thead>\n",
       "    <tr style=\"text-align: right;\">\n",
       "      <th></th>\n",
       "      <th>prediction</th>\n",
       "      <th>class</th>\n",
       "    </tr>\n",
       "  </thead>\n",
       "  <tbody>\n",
       "    <tr>\n",
       "      <th>0</th>\n",
       "      <td>Iris-setosa</td>\n",
       "      <td>Iris-setosa</td>\n",
       "    </tr>\n",
       "    <tr>\n",
       "      <th>1</th>\n",
       "      <td>Iris-setosa</td>\n",
       "      <td>Iris-setosa</td>\n",
       "    </tr>\n",
       "    <tr>\n",
       "      <th>2</th>\n",
       "      <td>Iris-setosa</td>\n",
       "      <td>Iris-setosa</td>\n",
       "    </tr>\n",
       "    <tr>\n",
       "      <th>3</th>\n",
       "      <td>Iris-setosa</td>\n",
       "      <td>Iris-setosa</td>\n",
       "    </tr>\n",
       "    <tr>\n",
       "      <th>4</th>\n",
       "      <td>Iris-setosa</td>\n",
       "      <td>Iris-setosa</td>\n",
       "    </tr>\n",
       "  </tbody>\n",
       "</table>\n",
       "</div>"
      ],
      "text/plain": [
       "    prediction        class\n",
       "0  Iris-setosa  Iris-setosa\n",
       "1  Iris-setosa  Iris-setosa\n",
       "2  Iris-setosa  Iris-setosa\n",
       "3  Iris-setosa  Iris-setosa\n",
       "4  Iris-setosa  Iris-setosa"
      ]
     },
     "execution_count": 35,
     "metadata": {},
     "output_type": "execute_result"
    }
   ],
   "source": [
    "prediction = clf.predict(attributes)\n",
    "prediction_df = pd.DataFrame({\"prediction\": prediction})\n",
    "prediction_df.head()\n",
    "\n",
    "# create a result that contains the training data classes and the prediction result\n",
    "# use the pandas function concat to join the data frames - note the axis parameter means to join columns\n",
    "training_result = pd.concat([prediction_df, target], axis=1)\n",
    "training_result.head()\n"
   ]
  },
  {
   "cell_type": "markdown",
   "metadata": {},
   "source": [
    "How can we work out the percentage of correctly classified examples - that is where prediction is equal to the target class in Python?"
   ]
  },
  {
   "cell_type": "code",
   "execution_count": 40,
   "metadata": {},
   "outputs": [
    {
     "name": "stdout",
     "output_type": "stream",
     "text": [
      "0.013333333333333334\n"
     ]
    }
   ],
   "source": [
    "# write the code to calculate the misclassifications here...\n",
    "# calculate the proportion of records where the predicted class is not equal to the actual class\n",
    "counter = 0\n",
    "for i in training_result:\n",
    "    if i[0] != i[1]:\n",
    "        counter += 1\n",
    "print (counter/len(training_result))"
   ]
  },
  {
   "cell_type": "markdown",
   "metadata": {},
   "source": [
    "#### Training data"
   ]
  },
  {
   "cell_type": "markdown",
   "metadata": {},
   "source": [
    "You will have noticed there was a very high correspondance between the target and the classification by the decision tree which is not surprising given the decision tree was learned from this information.\n",
    "\n",
    "What if we don't use all of the training data for learning the decision model?\n",
    "\n",
    "In the following we use every second line in the original data file to learn the decision tree that is based on only half the data (the example uses every second row to learn the decision tree):"
   ]
  },
  {
   "cell_type": "code",
   "execution_count": null,
   "metadata": {
    "scrolled": true
   },
   "outputs": [],
   "source": [
    "attributes_training = attributes[attributes.index % 2 != 0]  # Use very 2rd row, exclude every second element starting from 0 \n",
    "                                                            #(note: % is the modulo operator)\n",
    "target_training = target[target.index % 2 != 0] # every second row\n",
    "\n",
    "# learn the decision tree\n",
    "clf2 = tree.DecisionTreeClassifier(criterion='entropy')\n",
    "clf2 = clf.fit(attributes_training,target_training)"
   ]
  },
  {
   "cell_type": "markdown",
   "metadata": {},
   "source": [
    "Now lets use this model for prediction"
   ]
  },
  {
   "cell_type": "code",
   "execution_count": null,
   "metadata": {},
   "outputs": [],
   "source": [
    "attributes_test = attributes[attributes.index % 2 != 1]  # Use very 2rd row, exclude every second element starting from 0 \n",
    "                                                            #(note: % is the modulo operator)\n",
    "\n",
    "prediction = clf.predict(attributes_test)\n",
    "prediction_df_1 = pd.DataFrame({\"prediction\": prediction})\n",
    "prediction_df_1.head()\n",
    "\n"
   ]
  },
  {
   "cell_type": "markdown",
   "metadata": {},
   "source": [
    "To evaluate how good the decision tree is at making predictions on \"new\", unseen data (that is unseen during the process of constructing the model) compare the actual value of the target (ie the one in the file) with decision tree predictions."
   ]
  },
  {
   "cell_type": "code",
   "execution_count": 32,
   "metadata": {},
   "outputs": [
    {
     "ename": "NameError",
     "evalue": "name 'prediction_df_1' is not defined",
     "output_type": "error",
     "traceback": [
      "\u001b[1;31m---------------------------------------------------------------------------\u001b[0m",
      "\u001b[1;31mNameError\u001b[0m                                 Traceback (most recent call last)",
      "\u001b[1;32m<ipython-input-32-fc7c1ff6f821>\u001b[0m in \u001b[0;36m<module>\u001b[1;34m()\u001b[0m\n\u001b[0;32m      2\u001b[0m \u001b[0mactual_class_test\u001b[0m\u001b[1;33m.\u001b[0m\u001b[0mindex\u001b[0m\u001b[1;33m=\u001b[0m\u001b[0mrange\u001b[0m\u001b[1;33m(\u001b[0m\u001b[1;36m75\u001b[0m\u001b[1;33m)\u001b[0m\u001b[1;33m\u001b[0m\u001b[0m\n\u001b[0;32m      3\u001b[0m \u001b[1;33m\u001b[0m\u001b[0m\n\u001b[1;32m----> 4\u001b[1;33m \u001b[0mtraining_result\u001b[0m \u001b[1;33m=\u001b[0m \u001b[0mpd\u001b[0m\u001b[1;33m.\u001b[0m\u001b[0mconcat\u001b[0m\u001b[1;33m(\u001b[0m\u001b[1;33m[\u001b[0m\u001b[0mprediction_df_1\u001b[0m\u001b[1;33m,\u001b[0m \u001b[0mactual_class_test\u001b[0m\u001b[1;33m]\u001b[0m\u001b[1;33m,\u001b[0m \u001b[0maxis\u001b[0m\u001b[1;33m=\u001b[0m\u001b[1;36m1\u001b[0m\u001b[1;33m)\u001b[0m\u001b[1;33m\u001b[0m\u001b[0m\n\u001b[0m\u001b[0;32m      5\u001b[0m \u001b[1;33m\u001b[0m\u001b[0m\n\u001b[0;32m      6\u001b[0m \u001b[0mtraining_result\u001b[0m\u001b[1;33m\u001b[0m\u001b[0m\n",
      "\u001b[1;31mNameError\u001b[0m: name 'prediction_df_1' is not defined"
     ]
    }
   ],
   "source": [
    "actual_class_test = target[target.index % 2 != 1] \n",
    "actual_class_test.index=range(75)\n",
    "\n",
    "training_result = pd.concat([prediction_df_1, actual_class_test], axis=1)\n",
    "\n",
    "training_result"
   ]
  },
  {
   "cell_type": "markdown",
   "metadata": {},
   "source": [
    "Looking at the above you can quickly observe the results of the prediction differ from the original dataset. \n",
    "\n",
    "Use your method to calculate the misclassification percentage to evaluate the decision tree classifier"
   ]
  },
  {
   "cell_type": "code",
   "execution_count": 41,
   "metadata": {},
   "outputs": [
    {
     "name": "stdout",
     "output_type": "stream",
     "text": [
      "0.9866666666666667\n"
     ]
    }
   ],
   "source": [
    "counter = 0\n",
    "for i in training_result:\n",
    "    if i[0] != i[1]:\n",
    "        counter += 1\n",
    "print (1-(counter/len(training_result)))"
   ]
  },
  {
   "cell_type": "markdown",
   "metadata": {},
   "source": [
    "## 4. Exercise"
   ]
  },
  {
   "cell_type": "markdown",
   "metadata": {},
   "source": [
    "Now download another dataset from the UCI Machine Learning Repository and perform a similar analysis.\n",
    "\n",
    "Make sure to choose one the classification problems: https://archive.ics.uci.edu/ml/datasets.html?format=&task=cla&att=&area=&numAtt=&numIns=100to1000&type=&sort=nameUp&view=table\n",
    "\n",
    "It would be a good idea to have a look also at the dataset in your browser to find one using csv format :-)\n",
    "\n",
    "1. First perform some initial examinations of the data using head etc\n",
    "1. Then generate summary statistics\n",
    "1. Next generate some plots to visualise the data\n",
    "1. Then learn a decision tree classifier "
   ]
  },
  {
   "cell_type": "code",
   "execution_count": 87,
   "metadata": {},
   "outputs": [],
   "source": [
    "# You can put your code here and try to make it easy for another person to read.\n",
    "# For the final version you probably don't need more than one cells for each of the \n",
    "# points 1-4 above. Make sure to delete  empty cells when you are finished using the little \n",
    "# sissors icon at the top\n",
    "\n",
    "import urllib.request\n",
    "import pandas as pd\n",
    "import numpy as np\n",
    "\n",
    "url = 'https://archive.ics.uci.edu/ml/machine-learning-databases/blood-transfusion/transfusion.data'\n",
    "response = urllib.request.urlopen(url)\n",
    "data = response.read()      # a raw bits 'bytes' object\n",
    "text = data.decode('utf-8') # use the utf-8 string format to create a string 'str' object \n",
    "bt_df=pd.read_csv(url, names=(\"Recency (months)\",\"Frequency (times)\",\"Monetary (c.c. blood)\",\"Time (months)\",\"whether he/she donated blood in March 2007\")) # Panda object\n",
    "bt_df = bt_df[1:]"
   ]
  },
  {
   "cell_type": "code",
   "execution_count": 116,
   "metadata": {},
   "outputs": [
    {
     "data": {
      "text/plain": [
       "'Recency (months),Frequency (times),Monetary (c.c. blood),Time (months),\"whether he/she donated blood in March 2007\"\\r\\n2 ,50,12500,98 ,1\\r\\n0 ,13,3250,28 ,1\\r\\n1 ,16,4000,35 ,1\\r\\n2 ,20,5000,45 ,1\\r\\n1 ,24,6000,77 ,0\\r\\n4 ,4,1000,4 ,0\\r\\n2 ,7,1750,14 ,1\\r\\n1 ,12,3000,35 ,0\\r\\n2 ,9,2250,22 ,1\\r\\n5 ,46,11500,98 ,1\\r\\n4 ,23,5750,58 ,0\\r\\n0 ,3,750,4 ,0\\r\\n2 ,10,2500,28 ,1\\r\\n1 ,13,3250,47 ,0\\r\\n2 ,6,1500,15 ,1\\r\\n2 ,5,1250,11 ,1\\r\\n2 ,14,3500,48 ,1\\r\\n2 ,15,3750,49 ,1\\r\\n2 ,6,1500,15 ,1\\r\\n2 ,3,750,4 ,1\\r\\n2 ,3,750,4 ,1\\r\\n4 ,11,2750,28 ,0\\r\\n2 ,6,1500,16 ,1\\r\\n2 ,6,1500,16 ,1\\r\\n9 ,9,2250,16 ,0\\r\\n4 ,14,3500,40 ,0\\r\\n4 ,6,1500,14 ,0\\r\\n4 ,12,3000,34 ,1\\r\\n4 ,5,1250,11 ,1\\r\\n4 ,8,2000,21 ,0\\r\\n1 ,14,3500,58 ,0\\r\\n4 ,10,2500,28 ,1\\r\\n4 ,10,2500,28 ,1\\r\\n4 ,9,2250,26 ,1\\r\\n2 ,16,4000,64 ,0\\r\\n2 ,8,2000,28 ,1\\r\\n2 ,12,3000,47 ,1\\r\\n4 ,6,1500,16 ,1\\r\\n2 ,14,3500,57 ,1\\r\\n4 ,7,1750,22 ,1\\r\\n2 ,13,3250,53 ,1\\r\\n2 ,5,1250,16 ,0\\r\\n2 ,5,1250,16 ,1\\r\\n2 ,5,1250,16 ,0\\r\\n4 ,20,5000,69 ,1\\r\\n4 ,9,2250,28 ,1\\r\\n2 ,9,2250,36 ,0\\r\\n2 ,2,500,2 ,0\\r\\n2 ,2,500,2 ,0\\r\\n2 ,2,500,2 ,0\\r\\n2 ,11,2750,46 ,0\\r\\n2 ,11,2750,46 ,1\\r\\n2 ,6,1500,22 ,0\\r\\n2 ,12,3000,52 ,0\\r\\n4 ,5,1250,14 ,1\\r\\n4 ,19,4750,69 ,1\\r\\n4 ,8,2000,26 ,1\\r\\n2 ,7,1750,28 ,1\\r\\n2 ,16,4000,81 ,0\\r\\n3 ,6,1500,21 ,0\\r\\n2 ,7,1750,29 ,0\\r\\n2 ,8,2000,35 ,1\\r\\n2 ,10,2500,49 ,0\\r\\n4 ,5,1250,16 ,1\\r\\n2 ,3,750,9 ,1\\r\\n3 ,16,4000,74 ,0\\r\\n2 ,4,1000,14 ,1\\r\\n0 ,2,500,4 ,0\\r\\n4 ,7,1750,25 ,0\\r\\n1 ,9,2250,51 ,0\\r\\n2 ,4,1000,16 ,0\\r\\n2 ,4,1000,16 ,0\\r\\n4 ,17,4250,71 ,1\\r\\n2 ,2,500,4 ,0\\r\\n2 ,2,500,4 ,1\\r\\n2 ,2,500,4 ,1\\r\\n2 ,4,1000,16 ,1\\r\\n2 ,2,500,4 ,0\\r\\n2 ,2,500,4 ,0\\r\\n2 ,2,500,4 ,0\\r\\n4 ,6,1500,23 ,1\\r\\n2 ,4,1000,16 ,0\\r\\n2 ,4,1000,16 ,0\\r\\n2 ,4,1000,16 ,0\\r\\n2 ,6,1500,28 ,1\\r\\n2 ,6,1500,28 ,0\\r\\n4 ,2,500,4 ,0\\r\\n4 ,2,500,4 ,0\\r\\n4 ,2,500,4 ,0\\r\\n2 ,7,1750,35 ,1\\r\\n4 ,2,500,4 ,1\\r\\n4 ,2,500,4 ,0\\r\\n4 ,2,500,4 ,0\\r\\n4 ,2,500,4 ,0\\r\\n12 ,11,2750,23 ,0\\r\\n4 ,7,1750,28 ,0\\r\\n3 ,17,4250,86 ,0\\r\\n4 ,9,2250,38 ,1\\r\\n4 ,4,1000,14 ,1\\r\\n5 ,7,1750,26 ,1\\r\\n4 ,8,2000,34 ,1\\r\\n2 ,13,3250,76 ,1\\r\\n4 ,9,2250,40 ,0\\r\\n2 ,5,1250,26 ,0\\r\\n2 ,5,1250,26 ,0\\r\\n6 ,17,4250,70 ,0\\r\\n0 ,8,2000,59 ,0\\r\\n3 ,5,1250,26 ,0\\r\\n2 ,3,750,14 ,0\\r\\n2 ,10,2500,64 ,0\\r\\n4 ,5,1250,23 ,1\\r\\n4 ,9,2250,46 ,0\\r\\n4 ,5,1250,23 ,0\\r\\n4 ,8,2000,40 ,1\\r\\n2 ,12,3000,82 ,0\\r\\n11 ,24,6000,64 ,0\\r\\n2 ,7,1750,46 ,1\\r\\n4 ,11,2750,61 ,0\\r\\n1 ,7,1750,57 ,0\\r\\n2 ,11,2750,79 ,1\\r\\n2 ,3,750,16 ,1\\r\\n4 ,5,1250,26 ,1\\r\\n2 ,6,1500,41 ,1\\r\\n2 ,5,1250,33 ,1\\r\\n2 ,4,1000,26 ,0\\r\\n2 ,5,1250,34 ,0\\r\\n4 ,8,2000,46 ,1\\r\\n2 ,4,1000,26 ,0\\r\\n4 ,8,2000,48 ,1\\r\\n2 ,2,500,10 ,1\\r\\n4 ,5,1250,28 ,0\\r\\n2 ,12,3000,95 ,0\\r\\n2 ,2,500,10 ,0\\r\\n4 ,6,1500,35 ,0\\r\\n2 ,11,2750,88 ,0\\r\\n2 ,3,750,19 ,0\\r\\n2 ,5,1250,37 ,0\\r\\n2 ,12,3000,98 ,0\\r\\n9 ,5,1250,19 ,0\\r\\n2 ,2,500,11 ,0\\r\\n2 ,9,2250,74 ,0\\r\\n5 ,14,3500,86 ,0\\r\\n4 ,3,750,16 ,0\\r\\n4 ,3,750,16 ,0\\r\\n4 ,2,500,9 ,1\\r\\n4 ,3,750,16 ,1\\r\\n6 ,3,750,14 ,0\\r\\n2 ,2,500,11 ,0\\r\\n2 ,2,500,11 ,1\\r\\n2 ,2,500,11 ,0\\r\\n2 ,7,1750,58 ,1\\r\\n4 ,6,1500,39 ,0\\r\\n4 ,11,2750,78 ,0\\r\\n2 ,1,250,2 ,1\\r\\n2 ,1,250,2 ,0\\r\\n2 ,1,250,2 ,0\\r\\n2 ,1,250,2 ,0\\r\\n2 ,1,250,2 ,0\\r\\n2 ,1,250,2 ,0\\r\\n2 ,1,250,2 ,0\\r\\n2 ,1,250,2 ,0\\r\\n2 ,1,250,2 ,0\\r\\n2 ,1,250,2 ,0\\r\\n2 ,1,250,2 ,1\\r\\n2 ,1,250,2 ,1\\r\\n2 ,1,250,2 ,1\\r\\n2 ,1,250,2 ,0\\r\\n2 ,1,250,2 ,0\\r\\n2 ,1,250,2 ,0\\r\\n2 ,1,250,2 ,0\\r\\n2 ,1,250,2 ,0\\r\\n2 ,1,250,2 ,0\\r\\n2 ,1,250,2 ,0\\r\\n2 ,1,250,2 ,0\\r\\n2 ,1,250,2 ,0\\r\\n11 ,10,2500,35 ,0\\r\\n11 ,4,1000,16 ,1\\r\\n4 ,5,1250,33 ,1\\r\\n4 ,6,1500,41 ,1\\r\\n2 ,3,750,22 ,0\\r\\n4 ,4,1000,26 ,1\\r\\n10 ,4,1000,16 ,0\\r\\n2 ,4,1000,35 ,0\\r\\n4 ,12,3000,88 ,0\\r\\n13 ,8,2000,26 ,0\\r\\n11 ,9,2250,33 ,0\\r\\n4 ,5,1250,34 ,0\\r\\n4 ,4,1000,26 ,0\\r\\n8 ,15,3750,77 ,0\\r\\n4 ,5,1250,35 ,1\\r\\n4 ,7,1750,52 ,0\\r\\n4 ,7,1750,52 ,0\\r\\n2 ,4,1000,35 ,0\\r\\n11 ,11,2750,42 ,0\\r\\n2 ,2,500,14 ,0\\r\\n2 ,5,1250,47 ,1\\r\\n9 ,8,2000,38 ,1\\r\\n4 ,6,1500,47 ,0\\r\\n11 ,7,1750,29 ,0\\r\\n9 ,9,2250,45 ,0\\r\\n4 ,6,1500,52 ,0\\r\\n4 ,7,1750,58 ,0\\r\\n6 ,2,500,11 ,1\\r\\n4 ,7,1750,58 ,0\\r\\n11 ,9,2250,38 ,0\\r\\n11 ,6,1500,26 ,0\\r\\n2 ,2,500,16 ,0\\r\\n2 ,7,1750,76 ,0\\r\\n11 ,6,1500,27 ,0\\r\\n11 ,3,750,14 ,0\\r\\n4 ,1,250,4 ,0\\r\\n4 ,1,250,4 ,0\\r\\n4 ,1,250,4 ,0\\r\\n4 ,1,250,4 ,0\\r\\n4 ,1,250,4 ,0\\r\\n4 ,1,250,4 ,1\\r\\n4 ,1,250,4 ,0\\r\\n4 ,1,250,4 ,0\\r\\n4 ,1,250,4 ,0\\r\\n4 ,1,250,4 ,0\\r\\n4 ,1,250,4 ,0\\r\\n4 ,1,250,4 ,1\\r\\n4 ,1,250,4 ,1\\r\\n4 ,1,250,4 ,0\\r\\n4 ,1,250,4 ,1\\r\\n4 ,1,250,4 ,1\\r\\n4 ,1,250,4 ,0\\r\\n4 ,3,750,24 ,0\\r\\n4 ,1,250,4 ,0\\r\\n4 ,1,250,4 ,0\\r\\n4 ,1,250,4 ,0\\r\\n4 ,1,250,4 ,1\\r\\n4 ,1,250,4 ,0\\r\\n10 ,8,2000,39 ,0\\r\\n14 ,7,1750,26 ,0\\r\\n8 ,10,2500,63 ,0\\r\\n11 ,3,750,15 ,0\\r\\n4 ,2,500,14 ,0\\r\\n2 ,4,1000,43 ,0\\r\\n8 ,9,2250,58 ,0\\r\\n8 ,8,2000,52 ,1\\r\\n11 ,22,5500,98 ,0\\r\\n4 ,3,750,25 ,1\\r\\n11 ,17,4250,79 ,1\\r\\n9 ,2,500,11 ,0\\r\\n4 ,5,1250,46 ,0\\r\\n11 ,12,3000,58 ,0\\r\\n7 ,12,3000,86 ,0\\r\\n11 ,2,500,11 ,0\\r\\n11 ,2,500,11 ,0\\r\\n11 ,2,500,11 ,0\\r\\n2 ,6,1500,75 ,0\\r\\n11 ,8,2000,41 ,1\\r\\n11 ,3,750,16 ,1\\r\\n12 ,13,3250,59 ,0\\r\\n2 ,3,750,35 ,0\\r\\n16 ,8,2000,28 ,0\\r\\n11 ,7,1750,37 ,0\\r\\n4 ,3,750,28 ,0\\r\\n12 ,12,3000,58 ,0\\r\\n4 ,4,1000,41 ,0\\r\\n11 ,14,3500,73 ,1\\r\\n2 ,2,500,23 ,0\\r\\n2 ,3,750,38 ,1\\r\\n4 ,5,1250,58 ,0\\r\\n4 ,4,1000,43 ,1\\r\\n3 ,2,500,23 ,0\\r\\n11 ,8,2000,46 ,0\\r\\n4 ,7,1750,82 ,0\\r\\n13 ,4,1000,21 ,0\\r\\n16 ,11,2750,40 ,0\\r\\n16 ,7,1750,28 ,0\\r\\n7 ,2,500,16 ,0\\r\\n4 ,5,1250,58 ,0\\r\\n4 ,5,1250,58 ,0\\r\\n4 ,4,1000,46 ,0\\r\\n14 ,13,3250,57 ,0\\r\\n4 ,3,750,34 ,0\\r\\n14 ,18,4500,78 ,0\\r\\n11 ,8,2000,48 ,0\\r\\n14 ,16,4000,70 ,0\\r\\n14 ,4,1000,22 ,1\\r\\n14 ,5,1250,26 ,0\\r\\n8 ,2,500,16 ,0\\r\\n11 ,5,1250,33 ,0\\r\\n11 ,2,500,14 ,0\\r\\n4 ,2,500,23 ,0\\r\\n9 ,2,500,16 ,1\\r\\n14 ,5,1250,28 ,1\\r\\n14 ,3,750,19 ,1\\r\\n14 ,4,1000,23 ,1\\r\\n16 ,12,3000,50 ,0\\r\\n11 ,4,1000,28 ,0\\r\\n11 ,5,1250,35 ,0\\r\\n11 ,5,1250,35 ,0\\r\\n2 ,4,1000,70 ,0\\r\\n14 ,5,1250,28 ,0\\r\\n14 ,2,500,14 ,0\\r\\n14 ,2,500,14 ,0\\r\\n14 ,2,500,14 ,0\\r\\n14 ,2,500,14 ,0\\r\\n14 ,2,500,14 ,0\\r\\n14 ,2,500,14 ,0\\r\\n2 ,3,750,52 ,0\\r\\n14 ,6,1500,34 ,0\\r\\n11 ,5,1250,37 ,1\\r\\n4 ,5,1250,74 ,0\\r\\n11 ,3,750,23 ,0\\r\\n16 ,4,1000,23 ,0\\r\\n16 ,3,750,19 ,0\\r\\n11 ,5,1250,38 ,0\\r\\n11 ,2,500,16 ,0\\r\\n12 ,9,2250,60 ,0\\r\\n9 ,1,250,9 ,0\\r\\n9 ,1,250,9 ,0\\r\\n4 ,2,500,29 ,0\\r\\n11 ,2,500,17 ,0\\r\\n14 ,4,1000,26 ,0\\r\\n11 ,9,2250,72 ,1\\r\\n11 ,5,1250,41 ,0\\r\\n15 ,16,4000,82 ,0\\r\\n9 ,5,1250,51 ,1\\r\\n11 ,4,1000,34 ,0\\r\\n14 ,8,2000,50 ,1\\r\\n16 ,7,1750,38 ,0\\r\\n14 ,2,500,16 ,0\\r\\n2 ,2,500,41 ,0\\r\\n14 ,16,4000,98 ,0\\r\\n14 ,4,1000,28 ,1\\r\\n16 ,7,1750,39 ,0\\r\\n14 ,7,1750,47 ,0\\r\\n16 ,6,1500,35 ,0\\r\\n16 ,6,1500,35 ,1\\r\\n11 ,7,1750,62 ,1\\r\\n16 ,2,500,16 ,0\\r\\n16 ,3,750,21 ,1\\r\\n11 ,3,750,28 ,0\\r\\n11 ,7,1750,64 ,0\\r\\n11 ,1,250,11 ,1\\r\\n9 ,3,750,34 ,0\\r\\n14 ,4,1000,30 ,0\\r\\n23 ,38,9500,98 ,0\\r\\n11 ,6,1500,58 ,0\\r\\n11 ,1,250,11 ,0\\r\\n11 ,1,250,11 ,0\\r\\n11 ,1,250,11 ,0\\r\\n11 ,1,250,11 ,0\\r\\n11 ,1,250,11 ,0\\r\\n11 ,1,250,11 ,0\\r\\n11 ,1,250,11 ,0\\r\\n11 ,1,250,11 ,0\\r\\n11 ,2,500,21 ,0\\r\\n11 ,5,1250,50 ,0\\r\\n11 ,2,500,21 ,0\\r\\n16 ,4,1000,28 ,0\\r\\n4 ,2,500,41 ,0\\r\\n16 ,6,1500,40 ,0\\r\\n14 ,3,750,26 ,0\\r\\n9 ,2,500,26 ,0\\r\\n21 ,16,4000,64 ,0\\r\\n14 ,6,1500,51 ,0\\r\\n11 ,2,500,24 ,0\\r\\n4 ,3,750,71 ,0\\r\\n21 ,13,3250,57 ,0\\r\\n11 ,6,1500,71 ,0\\r\\n14 ,2,500,21 ,1\\r\\n23 ,15,3750,57 ,0\\r\\n14 ,4,1000,38 ,0\\r\\n11 ,2,500,26 ,0\\r\\n16 ,5,1250,40 ,1\\r\\n4 ,2,500,51 ,1\\r\\n14 ,3,750,31 ,0\\r\\n4 ,2,500,52 ,0\\r\\n9 ,4,1000,65 ,0\\r\\n14 ,4,1000,40 ,0\\r\\n11 ,3,750,40 ,1\\r\\n14 ,5,1250,50 ,0\\r\\n14 ,1,250,14 ,0\\r\\n14 ,1,250,14 ,0\\r\\n14 ,1,250,14 ,0\\r\\n14 ,1,250,14 ,0\\r\\n14 ,1,250,14 ,0\\r\\n14 ,1,250,14 ,0\\r\\n14 ,1,250,14 ,0\\r\\n14 ,1,250,14 ,0\\r\\n14 ,7,1750,72 ,0\\r\\n14 ,1,250,14 ,0\\r\\n14 ,1,250,14 ,0\\r\\n9 ,3,750,52 ,0\\r\\n14 ,7,1750,73 ,0\\r\\n11 ,4,1000,58 ,0\\r\\n11 ,4,1000,59 ,0\\r\\n4 ,2,500,59 ,0\\r\\n11 ,4,1000,61 ,0\\r\\n16 ,4,1000,40 ,0\\r\\n16 ,10,2500,89 ,0\\r\\n21 ,2,500,21 ,1\\r\\n21 ,3,750,26 ,0\\r\\n16 ,8,2000,76 ,0\\r\\n21 ,3,750,26 ,1\\r\\n18 ,2,500,23 ,0\\r\\n23 ,5,1250,33 ,0\\r\\n23 ,8,2000,46 ,0\\r\\n16 ,3,750,34 ,0\\r\\n14 ,5,1250,64 ,0\\r\\n14 ,3,750,41 ,0\\r\\n16 ,1,250,16 ,0\\r\\n16 ,1,250,16 ,0\\r\\n16 ,1,250,16 ,0\\r\\n16 ,1,250,16 ,0\\r\\n16 ,1,250,16 ,0\\r\\n16 ,1,250,16 ,0\\r\\n16 ,1,250,16 ,0\\r\\n16 ,4,1000,45 ,0\\r\\n16 ,1,250,16 ,0\\r\\n16 ,1,250,16 ,0\\r\\n16 ,1,250,16 ,0\\r\\n16 ,1,250,16 ,0\\r\\n16 ,1,250,16 ,0\\r\\n16 ,2,500,26 ,0\\r\\n21 ,2,500,23 ,0\\r\\n16 ,2,500,27 ,0\\r\\n21 ,2,500,23 ,0\\r\\n21 ,2,500,23 ,0\\r\\n14 ,4,1000,57 ,0\\r\\n16 ,5,1250,60 ,0\\r\\n23 ,2,500,23 ,0\\r\\n14 ,5,1250,74 ,0\\r\\n23 ,3,750,28 ,0\\r\\n16 ,3,750,40 ,0\\r\\n9 ,2,500,52 ,0\\r\\n9 ,2,500,52 ,0\\r\\n16 ,7,1750,87 ,1\\r\\n14 ,4,1000,64 ,0\\r\\n14 ,2,500,35 ,0\\r\\n16 ,7,1750,93 ,0\\r\\n21 ,2,500,25 ,0\\r\\n14 ,3,750,52 ,0\\r\\n23 ,14,3500,93 ,0\\r\\n18 ,8,2000,95 ,0\\r\\n16 ,3,750,46 ,0\\r\\n11 ,3,750,76 ,0\\r\\n11 ,2,500,52 ,0\\r\\n11 ,3,750,76 ,0\\r\\n23 ,12,3000,86 ,0\\r\\n21 ,3,750,35 ,0\\r\\n23 ,2,500,26 ,0\\r\\n23 ,2,500,26 ,0\\r\\n23 ,8,2000,64 ,0\\r\\n16 ,3,750,50 ,0\\r\\n23 ,3,750,33 ,0\\r\\n21 ,3,750,38 ,0\\r\\n23 ,2,500,28 ,0\\r\\n21 ,1,250,21 ,0\\r\\n21 ,1,250,21 ,0\\r\\n21 ,1,250,21 ,0\\r\\n21 ,1,250,21 ,0\\r\\n21 ,1,250,21 ,0\\r\\n21 ,1,250,21 ,0\\r\\n21 ,1,250,21 ,0\\r\\n21 ,1,250,21 ,0\\r\\n21 ,1,250,21 ,0\\r\\n21 ,1,250,21 ,1\\r\\n21 ,1,250,21 ,0\\r\\n21 ,1,250,21 ,0\\r\\n21 ,5,1250,60 ,0\\r\\n23 ,4,1000,45 ,0\\r\\n21 ,4,1000,52 ,0\\r\\n22 ,1,250,22 ,1\\r\\n11 ,2,500,70 ,0\\r\\n23 ,5,1250,58 ,0\\r\\n23 ,3,750,40 ,0\\r\\n23 ,3,750,41 ,0\\r\\n14 ,3,750,83 ,0\\r\\n21 ,2,500,35 ,0\\r\\n26 ,5,1250,49 ,1\\r\\n23 ,6,1500,70 ,0\\r\\n23 ,1,250,23 ,0\\r\\n23 ,1,250,23 ,0\\r\\n23 ,1,250,23 ,0\\r\\n23 ,1,250,23 ,0\\r\\n23 ,1,250,23 ,0\\r\\n23 ,1,250,23 ,0\\r\\n23 ,1,250,23 ,0\\r\\n23 ,1,250,23 ,0\\r\\n23 ,4,1000,53 ,0\\r\\n21 ,6,1500,86 ,0\\r\\n23 ,3,750,48 ,0\\r\\n21 ,2,500,41 ,0\\r\\n21 ,3,750,64 ,0\\r\\n16 ,2,500,70 ,0\\r\\n21 ,3,750,70 ,0\\r\\n23 ,4,1000,87 ,0\\r\\n23 ,3,750,89 ,0\\r\\n23 ,2,500,87 ,0\\r\\n35 ,3,750,64 ,0\\r\\n38 ,1,250,38 ,0\\r\\n38 ,1,250,38 ,0\\r\\n40 ,1,250,40 ,0\\r\\n74 ,1,250,74 ,0\\r\\n2 ,43,10750,86 ,1\\r\\n6 ,22,5500,28 ,1\\r\\n2 ,34,8500,77 ,1\\r\\n2 ,44,11000,98 ,0\\r\\n0 ,26,6500,76 ,1\\r\\n2 ,41,10250,98 ,1\\r\\n3 ,21,5250,42 ,1\\r\\n2 ,11,2750,23 ,0\\r\\n2 ,21,5250,52 ,1\\r\\n2 ,13,3250,32 ,1\\r\\n4 ,4,1000,4 ,1\\r\\n2 ,11,2750,26 ,0\\r\\n2 ,11,2750,28 ,0\\r\\n3 ,14,3500,35 ,0\\r\\n4 ,16,4000,38 ,1\\r\\n4 ,6,1500,14 ,0\\r\\n3 ,5,1250,12 ,1\\r\\n4 ,33,8250,98 ,1\\r\\n3 ,10,2500,33 ,1\\r\\n4 ,10,2500,28 ,1\\r\\n2 ,11,2750,40 ,1\\r\\n2 ,11,2750,41 ,1\\r\\n4 ,13,3250,39 ,1\\r\\n1 ,10,2500,43 ,1\\r\\n4 ,9,2250,28 ,0\\r\\n2 ,4,1000,11 ,0\\r\\n2 ,5,1250,16 ,1\\r\\n2 ,15,3750,64 ,0\\r\\n5 ,24,6000,79 ,0\\r\\n2 ,6,1500,22 ,1\\r\\n4 ,5,1250,16 ,1\\r\\n2 ,4,1000,14 ,1\\r\\n4 ,8,2000,28 ,0\\r\\n2 ,4,1000,14 ,0\\r\\n2 ,6,1500,26 ,0\\r\\n4 ,5,1250,16 ,1\\r\\n2 ,7,1750,32 ,1\\r\\n2 ,6,1500,26 ,1\\r\\n2 ,8,2000,38 ,1\\r\\n2 ,2,500,4 ,1\\r\\n2 ,6,1500,28 ,1\\r\\n2 ,10,2500,52 ,0\\r\\n4 ,16,4000,70 ,1\\r\\n4 ,2,500,4 ,1\\r\\n1 ,14,3500,95 ,0\\r\\n4 ,2,500,4 ,1\\r\\n7 ,14,3500,48 ,0\\r\\n2 ,3,750,11 ,0\\r\\n2 ,12,3000,70 ,1\\r\\n4 ,7,1750,32 ,1\\r\\n4 ,4,1000,16 ,0\\r\\n2 ,6,1500,35 ,1\\r\\n4 ,6,1500,28 ,1\\r\\n2 ,3,750,14 ,0\\r\\n2 ,4,1000,23 ,0\\r\\n4 ,4,1000,18 ,0\\r\\n5 ,6,1500,28 ,0\\r\\n4 ,6,1500,30 ,0\\r\\n14 ,5,1250,14 ,0\\r\\n3 ,8,2000,50 ,0\\r\\n4 ,11,2750,64 ,1\\r\\n4 ,9,2250,52 ,0\\r\\n4 ,16,4000,98 ,1\\r\\n7 ,10,2500,47 ,0\\r\\n4 ,14,3500,86 ,0\\r\\n2 ,9,2250,75 ,0\\r\\n4 ,6,1500,35 ,0\\r\\n4 ,9,2250,55 ,0\\r\\n4 ,6,1500,35 ,1\\r\\n2 ,6,1500,45 ,0\\r\\n2 ,6,1500,47 ,0\\r\\n4 ,2,500,9 ,0\\r\\n2 ,2,500,11 ,1\\r\\n2 ,2,500,11 ,0\\r\\n2 ,2,500,11 ,1\\r\\n4 ,6,1500,38 ,1\\r\\n3 ,4,1000,29 ,1\\r\\n9 ,9,2250,38 ,0\\r\\n11 ,5,1250,18 ,0\\r\\n2 ,3,750,21 ,0\\r\\n2 ,1,250,2 ,0\\r\\n2 ,1,250,2 ,1\\r\\n2 ,1,250,2 ,0\\r\\n2 ,1,250,2 ,0\\r\\n2 ,1,250,2 ,0\\r\\n2 ,1,250,2 ,0\\r\\n2 ,1,250,2 ,1\\r\\n2 ,1,250,2 ,0\\r\\n2 ,1,250,2 ,0\\r\\n2 ,1,250,2 ,0\\r\\n2 ,1,250,2 ,0\\r\\n11 ,11,2750,38 ,0\\r\\n2 ,3,750,22 ,0\\r\\n9 ,11,2750,49 ,1\\r\\n5 ,11,2750,75 ,0\\r\\n3 ,5,1250,38 ,0\\r\\n3 ,1,250,3 ,1\\r\\n4 ,6,1500,43 ,0\\r\\n2 ,3,750,24 ,0\\r\\n12 ,11,2750,39 ,0\\r\\n2 ,2,500,14 ,0\\r\\n4 ,6,1500,46 ,0\\r\\n9 ,3,750,14 ,0\\r\\n14 ,8,2000,26 ,0\\r\\n4 ,2,500,13 ,0\\r\\n4 ,11,2750,95 ,0\\r\\n2 ,7,1750,77 ,0\\r\\n2 ,7,1750,77 ,0\\r\\n4 ,1,250,4 ,0\\r\\n4 ,1,250,4 ,0\\r\\n4 ,1,250,4 ,0\\r\\n4 ,1,250,4 ,0\\r\\n4 ,1,250,4 ,1\\r\\n4 ,1,250,4 ,0\\r\\n4 ,1,250,4 ,0\\r\\n4 ,1,250,4 ,0\\r\\n4 ,1,250,4 ,0\\r\\n4 ,1,250,4 ,0\\r\\n4 ,1,250,4 ,1\\r\\n4 ,1,250,4 ,0\\r\\n4 ,7,1750,62 ,0\\r\\n4 ,1,250,4 ,0\\r\\n4 ,4,1000,34 ,1\\r\\n11 ,6,1500,28 ,0\\r\\n13 ,3,750,14 ,1\\r\\n7 ,5,1250,35 ,0\\r\\n9 ,9,2250,54 ,0\\r\\n11 ,2,500,11 ,0\\r\\n2 ,5,1250,63 ,0\\r\\n7 ,11,2750,89 ,0\\r\\n8 ,9,2250,64 ,0\\r\\n2 ,2,500,22 ,0\\r\\n6 ,3,750,26 ,0\\r\\n12 ,15,3750,71 ,0\\r\\n13 ,3,750,16 ,0\\r\\n11 ,16,4000,89 ,0\\r\\n4 ,5,1250,58 ,0\\r\\n14 ,7,1750,35 ,0\\r\\n11 ,4,1000,27 ,0\\r\\n7 ,9,2250,89 ,1\\r\\n11 ,8,2000,52 ,1\\r\\n7 ,5,1250,52 ,0\\r\\n11 ,6,1500,41 ,0\\r\\n10 ,5,1250,38 ,0\\r\\n14 ,2,500,14 ,1\\r\\n14 ,2,500,14 ,0\\r\\n14 ,2,500,14 ,0\\r\\n2 ,2,500,33 ,0\\r\\n11 ,3,750,23 ,0\\r\\n14 ,8,2000,46 ,0\\r\\n9 ,1,250,9 ,0\\r\\n16 ,5,1250,27 ,0\\r\\n14 ,4,1000,26 ,0\\r\\n4 ,2,500,30 ,0\\r\\n14 ,3,750,21 ,0\\r\\n16 ,16,4000,77 ,0\\r\\n4 ,2,500,31 ,0\\r\\n14 ,8,2000,50 ,0\\r\\n11 ,3,750,26 ,0\\r\\n14 ,7,1750,45 ,0\\r\\n15 ,5,1250,33 ,0\\r\\n16 ,2,500,16 ,0\\r\\n16 ,3,750,21 ,0\\r\\n11 ,8,2000,72 ,0\\r\\n11 ,1,250,11 ,0\\r\\n11 ,1,250,11 ,0\\r\\n11 ,1,250,11 ,0\\r\\n11 ,1,250,11 ,1\\r\\n11 ,1,250,11 ,0\\r\\n2 ,3,750,75 ,1\\r\\n2 ,3,750,77 ,0\\r\\n16 ,4,1000,28 ,0\\r\\n16 ,15,3750,87 ,0\\r\\n16 ,14,3500,83 ,0\\r\\n16 ,10,2500,62 ,0\\r\\n16 ,3,750,23 ,0\\r\\n14 ,3,750,26 ,0\\r\\n23 ,19,4750,62 ,0\\r\\n11 ,7,1750,75 ,0\\r\\n14 ,3,750,28 ,0\\r\\n20 ,14,3500,69 ,1\\r\\n4 ,2,500,46 ,0\\r\\n11 ,2,500,25 ,0\\r\\n11 ,3,750,37 ,0\\r\\n16 ,4,1000,33 ,0\\r\\n21 ,7,1750,38 ,0\\r\\n13 ,7,1750,76 ,0\\r\\n16 ,6,1500,50 ,0\\r\\n14 ,3,750,33 ,0\\r\\n14 ,1,250,14 ,0\\r\\n14 ,1,250,14 ,0\\r\\n14 ,1,250,14 ,0\\r\\n14 ,1,250,14 ,0\\r\\n14 ,1,250,14 ,0\\r\\n14 ,1,250,14 ,0\\r\\n17 ,7,1750,58 ,1\\r\\n14 ,3,750,35 ,0\\r\\n14 ,3,750,35 ,0\\r\\n16 ,7,1750,64 ,0\\r\\n21 ,2,500,21 ,0\\r\\n16 ,3,750,35 ,0\\r\\n16 ,1,250,16 ,0\\r\\n16 ,1,250,16 ,0\\r\\n16 ,1,250,16 ,0\\r\\n16 ,1,250,16 ,0\\r\\n16 ,1,250,16 ,0\\r\\n14 ,2,500,29 ,0\\r\\n11 ,4,1000,74 ,0\\r\\n11 ,2,500,38 ,1\\r\\n21 ,6,1500,48 ,0\\r\\n23 ,2,500,23 ,0\\r\\n23 ,6,1500,45 ,0\\r\\n14 ,2,500,35 ,1\\r\\n16 ,6,1500,81 ,0\\r\\n16 ,4,1000,58 ,0\\r\\n16 ,5,1250,71 ,0\\r\\n21 ,2,500,26 ,0\\r\\n21 ,3,750,35 ,0\\r\\n21 ,3,750,35 ,0\\r\\n23 ,8,2000,69 ,0\\r\\n21 ,3,750,38 ,0\\r\\n23 ,3,750,35 ,0\\r\\n21 ,3,750,40 ,0\\r\\n23 ,2,500,28 ,0\\r\\n21 ,1,250,21 ,0\\r\\n21 ,1,250,21 ,0\\r\\n25 ,6,1500,50 ,0\\r\\n21 ,1,250,21 ,0\\r\\n21 ,1,250,21 ,0\\r\\n23 ,3,750,39 ,0\\r\\n21 ,2,500,33 ,0\\r\\n14 ,3,750,79 ,0\\r\\n23 ,1,250,23 ,1\\r\\n23 ,1,250,23 ,0\\r\\n23 ,1,250,23 ,0\\r\\n23 ,1,250,23 ,0\\r\\n23 ,1,250,23 ,0\\r\\n23 ,1,250,23 ,0\\r\\n23 ,1,250,23 ,0\\r\\n23 ,4,1000,52 ,0\\r\\n23 ,1,250,23 ,0\\r\\n23 ,7,1750,88 ,0\\r\\n16 ,3,750,86 ,0\\r\\n23 ,2,500,38 ,0\\r\\n21 ,2,500,52 ,0\\r\\n23 ,3,750,62 ,0\\r\\n39 ,1,250,39 ,0\\r\\n72 ,1,250,72 ,0'"
      ]
     },
     "execution_count": 116,
     "metadata": {},
     "output_type": "execute_result"
    }
   ],
   "source": [
    "text"
   ]
  },
  {
   "cell_type": "code",
   "execution_count": 89,
   "metadata": {},
   "outputs": [
    {
     "data": {
      "text/html": [
       "<div>\n",
       "<style scoped>\n",
       "    .dataframe tbody tr th:only-of-type {\n",
       "        vertical-align: middle;\n",
       "    }\n",
       "\n",
       "    .dataframe tbody tr th {\n",
       "        vertical-align: top;\n",
       "    }\n",
       "\n",
       "    .dataframe thead th {\n",
       "        text-align: right;\n",
       "    }\n",
       "</style>\n",
       "<table border=\"1\" class=\"dataframe\">\n",
       "  <thead>\n",
       "    <tr style=\"text-align: right;\">\n",
       "      <th></th>\n",
       "      <th>Recency (months)</th>\n",
       "      <th>Frequency (times)</th>\n",
       "      <th>Monetary (c.c. blood)</th>\n",
       "      <th>Time (months)</th>\n",
       "      <th>whether he/she donated blood in March 2007</th>\n",
       "    </tr>\n",
       "  </thead>\n",
       "  <tbody>\n",
       "    <tr>\n",
       "      <th>1</th>\n",
       "      <td>2</td>\n",
       "      <td>50</td>\n",
       "      <td>12500</td>\n",
       "      <td>98</td>\n",
       "      <td>1</td>\n",
       "    </tr>\n",
       "    <tr>\n",
       "      <th>2</th>\n",
       "      <td>0</td>\n",
       "      <td>13</td>\n",
       "      <td>3250</td>\n",
       "      <td>28</td>\n",
       "      <td>1</td>\n",
       "    </tr>\n",
       "    <tr>\n",
       "      <th>3</th>\n",
       "      <td>1</td>\n",
       "      <td>16</td>\n",
       "      <td>4000</td>\n",
       "      <td>35</td>\n",
       "      <td>1</td>\n",
       "    </tr>\n",
       "    <tr>\n",
       "      <th>4</th>\n",
       "      <td>2</td>\n",
       "      <td>20</td>\n",
       "      <td>5000</td>\n",
       "      <td>45</td>\n",
       "      <td>1</td>\n",
       "    </tr>\n",
       "    <tr>\n",
       "      <th>5</th>\n",
       "      <td>1</td>\n",
       "      <td>24</td>\n",
       "      <td>6000</td>\n",
       "      <td>77</td>\n",
       "      <td>0</td>\n",
       "    </tr>\n",
       "  </tbody>\n",
       "</table>\n",
       "</div>"
      ],
      "text/plain": [
       "  Recency (months) Frequency (times) Monetary (c.c. blood) Time (months)  \\\n",
       "1               2                 50                 12500           98    \n",
       "2               0                 13                  3250           28    \n",
       "3               1                 16                  4000           35    \n",
       "4               2                 20                  5000           45    \n",
       "5               1                 24                  6000           77    \n",
       "\n",
       "  whether he/she donated blood in March 2007  \n",
       "1                                          1  \n",
       "2                                          1  \n",
       "3                                          1  \n",
       "4                                          1  \n",
       "5                                          0  "
      ]
     },
     "execution_count": 89,
     "metadata": {},
     "output_type": "execute_result"
    }
   ],
   "source": [
    "bt_df[:].head()"
   ]
  },
  {
   "cell_type": "code",
   "execution_count": 115,
   "metadata": {},
   "outputs": [
    {
     "ename": "AttributeError",
     "evalue": "'str' object has no attribute 'sqrt'",
     "output_type": "error",
     "traceback": [
      "\u001b[1;31m---------------------------------------------------------------------------\u001b[0m",
      "\u001b[1;31mAttributeError\u001b[0m                            Traceback (most recent call last)",
      "\u001b[1;32m<ipython-input-115-f380282089e7>\u001b[0m in \u001b[0;36m<module>\u001b[1;34m()\u001b[0m\n\u001b[0;32m     11\u001b[0m \u001b[0mcolors\u001b[0m \u001b[1;33m=\u001b[0m \u001b[1;33m{\u001b[0m\u001b[1;34m'1'\u001b[0m\u001b[1;33m:\u001b[0m\u001b[1;34m'red'\u001b[0m\u001b[1;33m,\u001b[0m \u001b[1;34m'0'\u001b[0m\u001b[1;33m:\u001b[0m\u001b[1;34m'blue'\u001b[0m\u001b[1;33m}\u001b[0m\u001b[1;33m\u001b[0m\u001b[0m\n\u001b[0;32m     12\u001b[0m \u001b[1;31m#print(bt_df[\"whether he/she donated blood in March 2007\"].apply(lambda x: colors[x]))\u001b[0m\u001b[1;33m\u001b[0m\u001b[1;33m\u001b[0m\u001b[0m\n\u001b[1;32m---> 13\u001b[1;33m \u001b[0mplt1\u001b[0m\u001b[1;33m.\u001b[0m\u001b[0mscatter\u001b[0m\u001b[1;33m(\u001b[0m\u001b[0mx1\u001b[0m\u001b[1;33m,\u001b[0m \u001b[0my1\u001b[0m\u001b[1;33m,\u001b[0m \u001b[0mz1\u001b[0m\u001b[1;33m,\u001b[0m \u001b[0mc\u001b[0m \u001b[1;33m=\u001b[0m \u001b[0mld\u001b[0m\u001b[1;33m.\u001b[0m\u001b[0mapply\u001b[0m\u001b[1;33m(\u001b[0m\u001b[1;32mlambda\u001b[0m \u001b[0mx\u001b[0m\u001b[1;33m:\u001b[0m \u001b[0mcolors\u001b[0m\u001b[1;33m[\u001b[0m\u001b[0mx\u001b[0m\u001b[1;33m]\u001b[0m\u001b[1;33m)\u001b[0m\u001b[1;33m)\u001b[0m\u001b[1;33m\u001b[0m\u001b[0m\n\u001b[0m\u001b[0;32m     14\u001b[0m \u001b[1;31m#ax1.scatter(x1,y1,z1)\u001b[0m\u001b[1;33m\u001b[0m\u001b[1;33m\u001b[0m\u001b[0m\n\u001b[0;32m     15\u001b[0m \u001b[1;31m#labels\u001b[0m\u001b[1;33m\u001b[0m\u001b[1;33m\u001b[0m\u001b[0m\n",
      "\u001b[1;32m~\\Anaconda3\\lib\\site-packages\\matplotlib\\pyplot.py\u001b[0m in \u001b[0;36mscatter\u001b[1;34m(x, y, s, c, marker, cmap, norm, vmin, vmax, alpha, linewidths, verts, edgecolors, hold, data, **kwargs)\u001b[0m\n\u001b[0;32m   3468\u001b[0m                          \u001b[0mvmin\u001b[0m\u001b[1;33m=\u001b[0m\u001b[0mvmin\u001b[0m\u001b[1;33m,\u001b[0m \u001b[0mvmax\u001b[0m\u001b[1;33m=\u001b[0m\u001b[0mvmax\u001b[0m\u001b[1;33m,\u001b[0m \u001b[0malpha\u001b[0m\u001b[1;33m=\u001b[0m\u001b[0malpha\u001b[0m\u001b[1;33m,\u001b[0m\u001b[1;33m\u001b[0m\u001b[0m\n\u001b[0;32m   3469\u001b[0m                          \u001b[0mlinewidths\u001b[0m\u001b[1;33m=\u001b[0m\u001b[0mlinewidths\u001b[0m\u001b[1;33m,\u001b[0m \u001b[0mverts\u001b[0m\u001b[1;33m=\u001b[0m\u001b[0mverts\u001b[0m\u001b[1;33m,\u001b[0m\u001b[1;33m\u001b[0m\u001b[0m\n\u001b[1;32m-> 3470\u001b[1;33m                          edgecolors=edgecolors, data=data, **kwargs)\n\u001b[0m\u001b[0;32m   3471\u001b[0m     \u001b[1;32mfinally\u001b[0m\u001b[1;33m:\u001b[0m\u001b[1;33m\u001b[0m\u001b[0m\n\u001b[0;32m   3472\u001b[0m         \u001b[0max\u001b[0m\u001b[1;33m.\u001b[0m\u001b[0m_hold\u001b[0m \u001b[1;33m=\u001b[0m \u001b[0mwashold\u001b[0m\u001b[1;33m\u001b[0m\u001b[0m\n",
      "\u001b[1;32m~\\Anaconda3\\lib\\site-packages\\mpl_toolkits\\mplot3d\\axes3d.py\u001b[0m in \u001b[0;36mscatter\u001b[1;34m(self, xs, ys, zs, zdir, s, c, depthshade, *args, **kwargs)\u001b[0m\n\u001b[0;32m   2360\u001b[0m \u001b[1;33m\u001b[0m\u001b[0m\n\u001b[0;32m   2361\u001b[0m         patches = super(Axes3D, self).scatter(\n\u001b[1;32m-> 2362\u001b[1;33m             xs, ys, s=s, c=c, *args, **kwargs)\n\u001b[0m\u001b[0;32m   2363\u001b[0m         \u001b[0mis_2d\u001b[0m \u001b[1;33m=\u001b[0m \u001b[1;32mnot\u001b[0m \u001b[0mcbook\u001b[0m\u001b[1;33m.\u001b[0m\u001b[0miterable\u001b[0m\u001b[1;33m(\u001b[0m\u001b[0mzs\u001b[0m\u001b[1;33m)\u001b[0m\u001b[1;33m\u001b[0m\u001b[0m\n\u001b[0;32m   2364\u001b[0m         \u001b[0mzs\u001b[0m \u001b[1;33m=\u001b[0m \u001b[0m_backports\u001b[0m\u001b[1;33m.\u001b[0m\u001b[0mbroadcast_to\u001b[0m\u001b[1;33m(\u001b[0m\u001b[0mzs\u001b[0m\u001b[1;33m,\u001b[0m \u001b[0mlen\u001b[0m\u001b[1;33m(\u001b[0m\u001b[0mxs\u001b[0m\u001b[1;33m)\u001b[0m\u001b[1;33m)\u001b[0m\u001b[1;33m\u001b[0m\u001b[0m\n",
      "\u001b[1;32m~\\Anaconda3\\lib\\site-packages\\matplotlib\\__init__.py\u001b[0m in \u001b[0;36minner\u001b[1;34m(ax, *args, **kwargs)\u001b[0m\n\u001b[0;32m   1853\u001b[0m                         \u001b[1;34m\"the Matplotlib list!)\"\u001b[0m \u001b[1;33m%\u001b[0m \u001b[1;33m(\u001b[0m\u001b[0mlabel_namer\u001b[0m\u001b[1;33m,\u001b[0m \u001b[0mfunc\u001b[0m\u001b[1;33m.\u001b[0m\u001b[0m__name__\u001b[0m\u001b[1;33m)\u001b[0m\u001b[1;33m,\u001b[0m\u001b[1;33m\u001b[0m\u001b[0m\n\u001b[0;32m   1854\u001b[0m                         RuntimeWarning, stacklevel=2)\n\u001b[1;32m-> 1855\u001b[1;33m             \u001b[1;32mreturn\u001b[0m \u001b[0mfunc\u001b[0m\u001b[1;33m(\u001b[0m\u001b[0max\u001b[0m\u001b[1;33m,\u001b[0m \u001b[1;33m*\u001b[0m\u001b[0margs\u001b[0m\u001b[1;33m,\u001b[0m \u001b[1;33m**\u001b[0m\u001b[0mkwargs\u001b[0m\u001b[1;33m)\u001b[0m\u001b[1;33m\u001b[0m\u001b[0m\n\u001b[0m\u001b[0;32m   1856\u001b[0m \u001b[1;33m\u001b[0m\u001b[0m\n\u001b[0;32m   1857\u001b[0m         inner.__doc__ = _add_data_doc(inner.__doc__,\n",
      "\u001b[1;32m~\\Anaconda3\\lib\\site-packages\\matplotlib\\axes\\_axes.py\u001b[0m in \u001b[0;36mscatter\u001b[1;34m(self, x, y, s, c, marker, cmap, norm, vmin, vmax, alpha, linewidths, verts, edgecolors, **kwargs)\u001b[0m\n\u001b[0;32m   4318\u001b[0m                 \u001b[0moffsets\u001b[0m\u001b[1;33m=\u001b[0m\u001b[0moffsets\u001b[0m\u001b[1;33m,\u001b[0m\u001b[1;33m\u001b[0m\u001b[0m\n\u001b[0;32m   4319\u001b[0m                 \u001b[0mtransOffset\u001b[0m\u001b[1;33m=\u001b[0m\u001b[0mkwargs\u001b[0m\u001b[1;33m.\u001b[0m\u001b[0mpop\u001b[0m\u001b[1;33m(\u001b[0m\u001b[1;34m'transform'\u001b[0m\u001b[1;33m,\u001b[0m \u001b[0mself\u001b[0m\u001b[1;33m.\u001b[0m\u001b[0mtransData\u001b[0m\u001b[1;33m)\u001b[0m\u001b[1;33m,\u001b[0m\u001b[1;33m\u001b[0m\u001b[0m\n\u001b[1;32m-> 4320\u001b[1;33m                 \u001b[0malpha\u001b[0m\u001b[1;33m=\u001b[0m\u001b[0malpha\u001b[0m\u001b[1;33m\u001b[0m\u001b[0m\n\u001b[0m\u001b[0;32m   4321\u001b[0m                 )\n\u001b[0;32m   4322\u001b[0m         \u001b[0mcollection\u001b[0m\u001b[1;33m.\u001b[0m\u001b[0mset_transform\u001b[0m\u001b[1;33m(\u001b[0m\u001b[0mmtransforms\u001b[0m\u001b[1;33m.\u001b[0m\u001b[0mIdentityTransform\u001b[0m\u001b[1;33m(\u001b[0m\u001b[1;33m)\u001b[0m\u001b[1;33m)\u001b[0m\u001b[1;33m\u001b[0m\u001b[0m\n",
      "\u001b[1;32m~\\Anaconda3\\lib\\site-packages\\matplotlib\\collections.py\u001b[0m in \u001b[0;36m__init__\u001b[1;34m(self, paths, sizes, **kwargs)\u001b[0m\n\u001b[0;32m    927\u001b[0m         \u001b[0mCollection\u001b[0m\u001b[1;33m.\u001b[0m\u001b[0m__init__\u001b[0m\u001b[1;33m(\u001b[0m\u001b[0mself\u001b[0m\u001b[1;33m,\u001b[0m \u001b[1;33m**\u001b[0m\u001b[0mkwargs\u001b[0m\u001b[1;33m)\u001b[0m\u001b[1;33m\u001b[0m\u001b[0m\n\u001b[0;32m    928\u001b[0m         \u001b[0mself\u001b[0m\u001b[1;33m.\u001b[0m\u001b[0mset_paths\u001b[0m\u001b[1;33m(\u001b[0m\u001b[0mpaths\u001b[0m\u001b[1;33m)\u001b[0m\u001b[1;33m\u001b[0m\u001b[0m\n\u001b[1;32m--> 929\u001b[1;33m         \u001b[0mself\u001b[0m\u001b[1;33m.\u001b[0m\u001b[0mset_sizes\u001b[0m\u001b[1;33m(\u001b[0m\u001b[0msizes\u001b[0m\u001b[1;33m)\u001b[0m\u001b[1;33m\u001b[0m\u001b[0m\n\u001b[0m\u001b[0;32m    930\u001b[0m         \u001b[0mself\u001b[0m\u001b[1;33m.\u001b[0m\u001b[0mstale\u001b[0m \u001b[1;33m=\u001b[0m \u001b[1;32mTrue\u001b[0m\u001b[1;33m\u001b[0m\u001b[0m\n\u001b[0;32m    931\u001b[0m \u001b[1;33m\u001b[0m\u001b[0m\n",
      "\u001b[1;32m~\\Anaconda3\\lib\\site-packages\\matplotlib\\collections.py\u001b[0m in \u001b[0;36mset_sizes\u001b[1;34m(self, sizes, dpi)\u001b[0m\n\u001b[0;32m    900\u001b[0m             \u001b[0mself\u001b[0m\u001b[1;33m.\u001b[0m\u001b[0m_sizes\u001b[0m \u001b[1;33m=\u001b[0m \u001b[0mnp\u001b[0m\u001b[1;33m.\u001b[0m\u001b[0masarray\u001b[0m\u001b[1;33m(\u001b[0m\u001b[0msizes\u001b[0m\u001b[1;33m)\u001b[0m\u001b[1;33m\u001b[0m\u001b[0m\n\u001b[0;32m    901\u001b[0m             \u001b[0mself\u001b[0m\u001b[1;33m.\u001b[0m\u001b[0m_transforms\u001b[0m \u001b[1;33m=\u001b[0m \u001b[0mnp\u001b[0m\u001b[1;33m.\u001b[0m\u001b[0mzeros\u001b[0m\u001b[1;33m(\u001b[0m\u001b[1;33m(\u001b[0m\u001b[0mlen\u001b[0m\u001b[1;33m(\u001b[0m\u001b[0mself\u001b[0m\u001b[1;33m.\u001b[0m\u001b[0m_sizes\u001b[0m\u001b[1;33m)\u001b[0m\u001b[1;33m,\u001b[0m \u001b[1;36m3\u001b[0m\u001b[1;33m,\u001b[0m \u001b[1;36m3\u001b[0m\u001b[1;33m)\u001b[0m\u001b[1;33m)\u001b[0m\u001b[1;33m\u001b[0m\u001b[0m\n\u001b[1;32m--> 902\u001b[1;33m             \u001b[0mscale\u001b[0m \u001b[1;33m=\u001b[0m \u001b[0mnp\u001b[0m\u001b[1;33m.\u001b[0m\u001b[0msqrt\u001b[0m\u001b[1;33m(\u001b[0m\u001b[0mself\u001b[0m\u001b[1;33m.\u001b[0m\u001b[0m_sizes\u001b[0m\u001b[1;33m)\u001b[0m \u001b[1;33m*\u001b[0m \u001b[0mdpi\u001b[0m \u001b[1;33m/\u001b[0m \u001b[1;36m72.0\u001b[0m \u001b[1;33m*\u001b[0m \u001b[0mself\u001b[0m\u001b[1;33m.\u001b[0m\u001b[0m_factor\u001b[0m\u001b[1;33m\u001b[0m\u001b[0m\n\u001b[0m\u001b[0;32m    903\u001b[0m             \u001b[0mself\u001b[0m\u001b[1;33m.\u001b[0m\u001b[0m_transforms\u001b[0m\u001b[1;33m[\u001b[0m\u001b[1;33m:\u001b[0m\u001b[1;33m,\u001b[0m \u001b[1;36m0\u001b[0m\u001b[1;33m,\u001b[0m \u001b[1;36m0\u001b[0m\u001b[1;33m]\u001b[0m \u001b[1;33m=\u001b[0m \u001b[0mscale\u001b[0m\u001b[1;33m\u001b[0m\u001b[0m\n\u001b[0;32m    904\u001b[0m             \u001b[0mself\u001b[0m\u001b[1;33m.\u001b[0m\u001b[0m_transforms\u001b[0m\u001b[1;33m[\u001b[0m\u001b[1;33m:\u001b[0m\u001b[1;33m,\u001b[0m \u001b[1;36m1\u001b[0m\u001b[1;33m,\u001b[0m \u001b[1;36m1\u001b[0m\u001b[1;33m]\u001b[0m \u001b[1;33m=\u001b[0m \u001b[0mscale\u001b[0m\u001b[1;33m\u001b[0m\u001b[0m\n",
      "\u001b[1;31mAttributeError\u001b[0m: 'str' object has no attribute 'sqrt'"
     ]
    },
    {
     "data": {
      "image/png": "[encoded data removed]",
      "text/plain": [
       "<Figure size 432x288 with 1 Axes>"
      ]
     },
     "metadata": {},
     "output_type": "display_data"
    }
   ],
   "source": [
    "import matplotlib.pyplot as plt1\n",
    "from mpl_toolkits.mplot3d import Axes3D\n",
    "fig1 = plt1.figure()\n",
    "ax1 = Axes3D(fig1)\n",
    "x1 = bt_df[\"Recency (months)\"]\n",
    "y1 = bt_df[\"Frequency (times)\"]\n",
    "z1 = bt_df[\"Monetary (c.c. blood)\"]\n",
    "#print(bt_df)\n",
    "#print(bt_df[\"whether he/she donated blood in March 2007\"])\n",
    "ld = bt_df[\"whether he/she donated blood in March 2007\"]\n",
    "colors = {'1':'red', '0':'blue'}\n",
    "#print(bt_df[\"whether he/she donated blood in March 2007\"].apply(lambda x: colors[x]))\n",
    "plt1.scatter(x1, y1, z1, c = ld.apply(lambda x: colors[x]))\n",
    "ax1.scatter(x1,y1,z1)\n",
    "#labels\n",
    "plt1.show()"
   ]
  },
  {
   "cell_type": "code",
   "execution_count": 79,
   "metadata": {},
   "outputs": [
    {
     "ename": "ValueError",
     "evalue": "could not convert string to float: 'Time (months)'",
     "output_type": "error",
     "traceback": [
      "\u001b[1;31m---------------------------------------------------------------------------\u001b[0m",
      "\u001b[1;31mValueError\u001b[0m                                Traceback (most recent call last)",
      "\u001b[1;32m<ipython-input-79-c6d3e866c490>\u001b[0m in \u001b[0;36m<module>\u001b[1;34m()\u001b[0m\n\u001b[0;32m      5\u001b[0m \u001b[1;33m\u001b[0m\u001b[0m\n\u001b[0;32m      6\u001b[0m \u001b[0mclf\u001b[0m \u001b[1;33m=\u001b[0m \u001b[0mtree\u001b[0m\u001b[1;33m.\u001b[0m\u001b[0mDecisionTreeClassifier\u001b[0m\u001b[1;33m(\u001b[0m\u001b[0mcriterion\u001b[0m\u001b[1;33m=\u001b[0m\u001b[1;34m'entropy'\u001b[0m\u001b[1;33m)\u001b[0m\u001b[1;33m\u001b[0m\u001b[0m\n\u001b[1;32m----> 7\u001b[1;33m \u001b[0mclf\u001b[0m \u001b[1;33m=\u001b[0m \u001b[0mclf\u001b[0m\u001b[1;33m.\u001b[0m\u001b[0mfit\u001b[0m\u001b[1;33m(\u001b[0m\u001b[0mattributes\u001b[0m\u001b[1;33m,\u001b[0m\u001b[0mtarget\u001b[0m\u001b[1;33m)\u001b[0m\u001b[1;33m\u001b[0m\u001b[0m\n\u001b[0m",
      "\u001b[1;32m~\\Anaconda3\\lib\\site-packages\\sklearn\\tree\\tree.py\u001b[0m in \u001b[0;36mfit\u001b[1;34m(self, X, y, sample_weight, check_input, X_idx_sorted)\u001b[0m\n\u001b[0;32m    788\u001b[0m             \u001b[0msample_weight\u001b[0m\u001b[1;33m=\u001b[0m\u001b[0msample_weight\u001b[0m\u001b[1;33m,\u001b[0m\u001b[1;33m\u001b[0m\u001b[0m\n\u001b[0;32m    789\u001b[0m             \u001b[0mcheck_input\u001b[0m\u001b[1;33m=\u001b[0m\u001b[0mcheck_input\u001b[0m\u001b[1;33m,\u001b[0m\u001b[1;33m\u001b[0m\u001b[0m\n\u001b[1;32m--> 790\u001b[1;33m             X_idx_sorted=X_idx_sorted)\n\u001b[0m\u001b[0;32m    791\u001b[0m         \u001b[1;32mreturn\u001b[0m \u001b[0mself\u001b[0m\u001b[1;33m\u001b[0m\u001b[0m\n\u001b[0;32m    792\u001b[0m \u001b[1;33m\u001b[0m\u001b[0m\n",
      "\u001b[1;32m~\\Anaconda3\\lib\\site-packages\\sklearn\\tree\\tree.py\u001b[0m in \u001b[0;36mfit\u001b[1;34m(self, X, y, sample_weight, check_input, X_idx_sorted)\u001b[0m\n\u001b[0;32m    114\u001b[0m         \u001b[0mrandom_state\u001b[0m \u001b[1;33m=\u001b[0m \u001b[0mcheck_random_state\u001b[0m\u001b[1;33m(\u001b[0m\u001b[0mself\u001b[0m\u001b[1;33m.\u001b[0m\u001b[0mrandom_state\u001b[0m\u001b[1;33m)\u001b[0m\u001b[1;33m\u001b[0m\u001b[0m\n\u001b[0;32m    115\u001b[0m         \u001b[1;32mif\u001b[0m \u001b[0mcheck_input\u001b[0m\u001b[1;33m:\u001b[0m\u001b[1;33m\u001b[0m\u001b[0m\n\u001b[1;32m--> 116\u001b[1;33m             \u001b[0mX\u001b[0m \u001b[1;33m=\u001b[0m \u001b[0mcheck_array\u001b[0m\u001b[1;33m(\u001b[0m\u001b[0mX\u001b[0m\u001b[1;33m,\u001b[0m \u001b[0mdtype\u001b[0m\u001b[1;33m=\u001b[0m\u001b[0mDTYPE\u001b[0m\u001b[1;33m,\u001b[0m \u001b[0maccept_sparse\u001b[0m\u001b[1;33m=\u001b[0m\u001b[1;34m\"csc\"\u001b[0m\u001b[1;33m)\u001b[0m\u001b[1;33m\u001b[0m\u001b[0m\n\u001b[0m\u001b[0;32m    117\u001b[0m             \u001b[0my\u001b[0m \u001b[1;33m=\u001b[0m \u001b[0mcheck_array\u001b[0m\u001b[1;33m(\u001b[0m\u001b[0my\u001b[0m\u001b[1;33m,\u001b[0m \u001b[0mensure_2d\u001b[0m\u001b[1;33m=\u001b[0m\u001b[1;32mFalse\u001b[0m\u001b[1;33m,\u001b[0m \u001b[0mdtype\u001b[0m\u001b[1;33m=\u001b[0m\u001b[1;32mNone\u001b[0m\u001b[1;33m)\u001b[0m\u001b[1;33m\u001b[0m\u001b[0m\n\u001b[0;32m    118\u001b[0m             \u001b[1;32mif\u001b[0m \u001b[0missparse\u001b[0m\u001b[1;33m(\u001b[0m\u001b[0mX\u001b[0m\u001b[1;33m)\u001b[0m\u001b[1;33m:\u001b[0m\u001b[1;33m\u001b[0m\u001b[0m\n",
      "\u001b[1;32m~\\Anaconda3\\lib\\site-packages\\sklearn\\utils\\validation.py\u001b[0m in \u001b[0;36mcheck_array\u001b[1;34m(array, accept_sparse, dtype, order, copy, force_all_finite, ensure_2d, allow_nd, ensure_min_samples, ensure_min_features, warn_on_dtype, estimator)\u001b[0m\n\u001b[0;32m    431\u001b[0m                                       force_all_finite)\n\u001b[0;32m    432\u001b[0m     \u001b[1;32melse\u001b[0m\u001b[1;33m:\u001b[0m\u001b[1;33m\u001b[0m\u001b[0m\n\u001b[1;32m--> 433\u001b[1;33m         \u001b[0marray\u001b[0m \u001b[1;33m=\u001b[0m \u001b[0mnp\u001b[0m\u001b[1;33m.\u001b[0m\u001b[0marray\u001b[0m\u001b[1;33m(\u001b[0m\u001b[0marray\u001b[0m\u001b[1;33m,\u001b[0m \u001b[0mdtype\u001b[0m\u001b[1;33m=\u001b[0m\u001b[0mdtype\u001b[0m\u001b[1;33m,\u001b[0m \u001b[0morder\u001b[0m\u001b[1;33m=\u001b[0m\u001b[0morder\u001b[0m\u001b[1;33m,\u001b[0m \u001b[0mcopy\u001b[0m\u001b[1;33m=\u001b[0m\u001b[0mcopy\u001b[0m\u001b[1;33m)\u001b[0m\u001b[1;33m\u001b[0m\u001b[0m\n\u001b[0m\u001b[0;32m    434\u001b[0m \u001b[1;33m\u001b[0m\u001b[0m\n\u001b[0;32m    435\u001b[0m         \u001b[1;32mif\u001b[0m \u001b[0mensure_2d\u001b[0m\u001b[1;33m:\u001b[0m\u001b[1;33m\u001b[0m\u001b[0m\n",
      "\u001b[1;31mValueError\u001b[0m: could not convert string to float: 'Time (months)'"
     ]
    }
   ],
   "source": [
    "from sklearn import tree\n",
    "\n",
    "attributes = bt_df[[\"Recency (months)\",\"Frequency (times)\",\"Time (months)\"]]\n",
    "target = bt_df[[\"Monetary (c.c. blood)\"]]\n",
    "\n",
    "clf = tree.DecisionTreeClassifier(criterion='entropy')\n",
    "clf = clf.fit(attributes,target)"
   ]
  },
  {
   "cell_type": "markdown",
   "metadata": {},
   "source": [
    "## 5. Going forward\n",
    "Spend some time to go over the work in this and the previous tutorial to become confortable with the material. Also don't worry too much if you are not quite comfortable with parts 3 and 4. Programming in Python, and programming generally, requires frequent consulting of docs and searching online especially when you are starting out with a new tool."
   ]
  }
 ],
 "metadata": {
  "kernelspec": {
   "display_name": "Python 3",
   "language": "python",
   "name": "python3"
  },
  "language_info": {
   "codemirror_mode": {
    "name": "ipython",
    "version": 3
   },
   "file_extension": ".py",
   "mimetype": "text/x-python",
   "name": "python",
   "nbconvert_exporter": "python",
   "pygments_lexer": "ipython3",
   "version": "3.6.5"
  }
 },
 "nbformat": 4,
 "nbformat_minor": 1
}
